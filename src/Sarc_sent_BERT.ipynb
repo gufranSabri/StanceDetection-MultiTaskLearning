{
 "cells": [
  {
   "cell_type": "code",
   "execution_count": 1,
   "id": "18a80001-1f93-4b70-be57-f3120ddfc17d",
   "metadata": {
    "tags": []
   },
   "outputs": [],
   "source": [
    "import os\n",
    "import pandas as pd\n",
    "import numpy as np\n",
    "import random\n",
    "from tqdm import tqdm\n",
    "import pickle\n",
    "import re\n",
    "import os\n",
    "import sys\n",
    "from dataclasses import dataclass, field\n",
    "from typing import Optional\n",
    "import datasets\n",
    "from datasets import ClassLabel, load_dataset, Dataset, DatasetDict\n",
    "import string\n",
    "from typing import Dict ,List\n",
    "import transformers\n",
    "\n",
    "import torch\n",
    "import torch.nn as nn\n",
    "import torch.nn.functional as F\n",
    "from torch.utils.data import DataLoader, TensorDataset\n",
    "from transformers import AdamW\n",
    "from transformers import BertTokenizerFast\n",
    "from arabert.preprocess import ArabertPreprocessor\n",
    "from transformers import AutoTokenizer, AutoModel\n",
    "from sklearn.metrics import accuracy_score, precision_score, recall_score, f1_score, classification_report, confusion_matrix\n",
    "from sklearn.model_selection import train_test_split\n",
    "\n",
    "import warnings\n",
    "\n",
    "warnings.filterwarnings(\"ignore\")\n",
    "os.environ[\"TOKENIZERS_PARALLELISM\"] = \"false\""
   ]
  },
  {
   "cell_type": "code",
   "execution_count": 2,
   "id": "81c8f497-1a6d-4607-929e-26b648f055fc",
   "metadata": {
    "tags": []
   },
   "outputs": [],
   "source": [
    "DATA_PATH = \"/Users/gufran/Developer/Projects/AI/MawqifStanceDetection/data\"\n",
    "MODEL_PATH = \"/Users/gufran/Developer/Projects/AI/MawqifStanceDetection/models\"\n",
    "\n",
    "model_name = \"aubmindlab/bert-base-arabertv02-twitter\"\n",
    "# model_name = \"aubmindlab/bert-base-arabertv02\""
   ]
  },
  {
   "cell_type": "code",
   "execution_count": 3,
   "id": "4c66dc1c-4f15-4e9d-8d43-ad6087c927b5",
   "metadata": {
    "tags": []
   },
   "outputs": [],
   "source": [
    "df = pd.read_csv(os.path.join(DATA_PATH, \"cleaned.csv\"))\n",
    "\n",
    "mapping_sent = {'Neutral': 2, 'Positive': 1, 'Negative': 0}\n",
    "df['sentiment'] = df['sentiment'].apply(lambda x: mapping_sent[x])\n",
    "\n",
    "mapping_sarcasm = {\"Yes\": 1, \"No\": 0}\n",
    "df['sarcasm'] = df['sarcasm'].apply(lambda x: mapping_sarcasm[x])"
   ]
  },
  {
   "cell_type": "code",
   "execution_count": 4,
   "id": "3d7200e3-fe06-473f-8be2-842448cb71ed",
   "metadata": {
    "tags": []
   },
   "outputs": [],
   "source": [
    "X = df[[\"text\"]]\n",
    "y = df[[\"sentiment\", \"sarcasm\"]]"
   ]
  },
  {
   "cell_type": "code",
   "execution_count": 5,
   "id": "5d6d0ba4-e763-475c-ae3b-a84926ae9fd3",
   "metadata": {
    "tags": []
   },
   "outputs": [],
   "source": [
    "arabic_punctuations = '''`÷×؛<>()*&^%][ـ،/:\"؟.,'{}~¦+|!”…“–ـ'''\n",
    "english_punctuations = string.punctuation\n",
    "punctuations_list = arabic_punctuations + english_punctuations\n",
    "\n",
    "def remove_hash_URL_MEN(text):\n",
    "    text = re.sub(r'#',' ',text)\n",
    "    text = re.sub(r'_',' ',text)\n",
    "    text = re.sub(r'URL','',text)\n",
    "    text = re.sub(r'MENTION','',text)\n",
    "    return text\n",
    "\n",
    "def normalize_arabic(text):\n",
    "    text = re.sub(\"[إآ]\", \"ا\", text)\n",
    "    #text = re.sub(\"ى\", \"ي\", text)\n",
    "    #text = re.sub(\"ة\", \"ه\", text)\n",
    "    text = re.sub(\"گ\", \"ك\", text)\n",
    "    return text\n",
    "\n",
    "def remove_punctuations(text):\n",
    "    translator = str.maketrans('', '', punctuations_list)\n",
    "    return text.translate(translator)\n",
    "\n",
    "def remove_repeating_char(text):\n",
    "    return re.sub(r'(.)\\1+', r'\\1', text)\n",
    "\n",
    "def process_tweet(tweet):     \n",
    "    tweet=remove_hash_URL_MEN(tweet)\n",
    "    tweet = re.sub('@[^\\s]+', ' ', str(tweet))\n",
    "    tweet = re.sub('((www\\.[^\\s]+)|(https?://[^\\s]+))',' ',str(tweet))    \n",
    "    tweet= normalize_arabic(str(tweet))\n",
    "    \n",
    "    return tweet\n",
    "\n",
    "arabert_prep = ArabertPreprocessor(model_name=model_name)\n",
    "X.text = X.text.apply(lambda x: process_tweet(x))\n",
    "X.text = X.text.apply(lambda x: arabert_prep.preprocess(x))"
   ]
  },
  {
   "cell_type": "code",
   "execution_count": 6,
   "id": "b341d433-5216-4db4-b0c7-ed7edbb9b0fd",
   "metadata": {
    "tags": []
   },
   "outputs": [],
   "source": [
    "X_train, X_test, y_train, y_test = train_test_split(X, y, test_size=0.15, random_state=42)"
   ]
  },
  {
   "cell_type": "code",
   "execution_count": 7,
   "id": "05aafb54-c8cb-4b51-aaab-155ddeec5c7d",
   "metadata": {
    "tags": []
   },
   "outputs": [
    {
     "data": {
      "text/plain": [
       "((2976, 1), (2976, 2), (526, 1), (526, 2))"
      ]
     },
     "execution_count": 7,
     "metadata": {},
     "output_type": "execute_result"
    }
   ],
   "source": [
    "X_train.shape, y_train.shape, X_test.shape, y_test.shape"
   ]
  },
  {
   "cell_type": "code",
   "execution_count": 8,
   "id": "e6248274-32f2-4cec-b933-a5a23e629699",
   "metadata": {},
   "outputs": [],
   "source": [
    "def encode_text(text):\n",
    "    return tokenizer(text, padding=\"max_length\", truncation=True, max_length=128, return_tensors=\"pt\")\n",
    "\n",
    "tokenizer = AutoTokenizer.from_pretrained(model_name)\n",
    "encoded_texts_train = [encode_text(text) for text in X_train[\"text\"]]\n",
    "encoded_texts_test = [encode_text(text) for text in X_test[\"text\"]]"
   ]
  },
  {
   "cell_type": "code",
   "execution_count": 9,
   "id": "a25918b4-7799-4d7d-b65f-06001fae7012",
   "metadata": {
    "tags": []
   },
   "outputs": [
    {
     "data": {
      "text/plain": [
       "(torch.Size([1, 128]), torch.Size([1, 128]))"
      ]
     },
     "execution_count": 9,
     "metadata": {},
     "output_type": "execute_result"
    }
   ],
   "source": [
    "encoded_texts_train[0].attention_mask.shape, encoded_texts_train[1].attention_mask.shape"
   ]
  },
  {
   "cell_type": "code",
   "execution_count": 10,
   "id": "63867049-08bc-4c89-9f32-2ec239fb9506",
   "metadata": {
    "tags": []
   },
   "outputs": [],
   "source": [
    "num_sarcasm_labels = len(y_train.sarcasm.unique())\n",
    "num_sentiment_labels = len(y_train.sentiment.unique())"
   ]
  },
  {
   "cell_type": "code",
   "execution_count": 24,
   "id": "299d6f01-e38f-4bff-b61c-0301d24c4e41",
   "metadata": {},
   "outputs": [],
   "source": [
    "class MultiTaskModel(nn.Module):\n",
    "    def __init__(self, base_model):\n",
    "        super(MultiTaskModel, self).__init__()\n",
    "        self.base_model = base_model\n",
    "        self.hidden_layer = nn.Linear(base_model.config.hidden_size, 512)\n",
    "        self.dropout = nn.Dropout(0.2)\n",
    "        self.sarcasm_classifier = nn.Linear(512, num_sarcasm_labels)\n",
    "        self.sentiment_classifier = nn.Linear(512, num_sentiment_labels)\n",
    "\n",
    "    def forward(self, input_ids, attention_mask):\n",
    "        outputs = self.base_model(input_ids=input_ids, attention_mask=attention_mask)\n",
    "        last_hidden_state = outputs.last_hidden_state[:, 0, :]\n",
    "        hidden_output = self.dropout(F.relu(self.hidden_layer(last_hidden_state)))\n",
    "        sarcasm_logits = self.sarcasm_classifier(hidden_output)\n",
    "        sentiment_logits = self.sentiment_classifier(hidden_output)\n",
    "        return sarcasm_logits, sentiment_logits"
   ]
  },
  {
   "cell_type": "code",
   "execution_count": 22,
   "id": "4a95a935-3ead-4e55-b5df-064cc293e677",
   "metadata": {
    "tags": []
   },
   "outputs": [],
   "source": [
    "dataset_train = TensorDataset(\n",
    "    torch.cat([item[\"input_ids\"] for item in encoded_texts_train]),\n",
    "    torch.cat([item[\"attention_mask\"] for item in encoded_texts_train]),\n",
    "    torch.tensor(y_train[\"sarcasm\"].values),\n",
    "    torch.tensor(y_train[\"sentiment\"].values)\n",
    ")\n",
    "train_loader = DataLoader(dataset_train, batch_size=16, shuffle=True)\n",
    "\n",
    "dataset_val = TensorDataset(\n",
    "    torch.cat([item[\"input_ids\"] for item in encoded_texts_test]),\n",
    "    torch.cat([item[\"attention_mask\"] for item in encoded_texts_test]),\n",
    "    torch.tensor(y_test[\"sarcasm\"].values),\n",
    "    torch.tensor(y_test[\"sentiment\"].values))\n",
    "val_loader = DataLoader(dataset_val, batch_size=16, shuffle=True)"
   ]
  },
  {
   "cell_type": "code",
   "execution_count": null,
   "id": "1ca5c8d4-7c91-4c84-8bf5-5bf669db6c9c",
   "metadata": {
    "tags": []
   },
   "outputs": [],
   "source": [
    "w1 = 0.9\n",
    "w2 = 0.1\n",
    "while w1 > 0.1:\n",
    "    device = torch.device(\"mps\")\n",
    "\n",
    "    encoder_model = AutoModel.from_pretrained(model_name)\n",
    "    multi_task_model = MultiTaskModel(encoder_model)\n",
    "\n",
    "    multi_task_model.to(device)\n",
    "    optimizer = AdamW(multi_task_model.parameters(), lr=1e-5)\n",
    "    num_epochs = 10\n",
    "    \n",
    "    print(\"----------------------------------------------------------\")\n",
    "    print(f\"Training with w1:{w1} and w2:{w2}\\n\")\n",
    "\n",
    "    for epoch in range(num_epochs):\n",
    "        multi_task_model.train()\n",
    "        total_loss = 0\n",
    "        correct_sarcasm = 0\n",
    "        correct_sentiment = 0\n",
    "        total_samples = 0\n",
    "\n",
    "        for batch in tqdm(train_loader, desc=\"Training\"):\n",
    "            input_ids, attention_mask, sarcasm_labels, sentiment_labels = batch\n",
    "            input_ids = input_ids.to(device)\n",
    "            attention_mask = attention_mask.to(device)\n",
    "            sarcasm_labels = sarcasm_labels.to(device)\n",
    "            sentiment_labels = sentiment_labels.to(device)\n",
    "            \n",
    "            optimizer.zero_grad()\n",
    "            sarcasm_logits, sentiment_logits = multi_task_model(input_ids, attention_mask)\n",
    "            sarcasm_loss = nn.CrossEntropyLoss()(sarcasm_logits, sarcasm_labels)\n",
    "            sentiment_loss = nn.CrossEntropyLoss()(sentiment_logits, sentiment_labels)\n",
    "            loss = w1*sarcasm_loss + w2*sentiment_loss\n",
    "            loss.backward()\n",
    "            optimizer.step()\n",
    "\n",
    "            total_loss += loss.item()\n",
    "            _, sarcasm_predicted = torch.max(sarcasm_logits, 1)\n",
    "            _, sentiment_predicted = torch.max(sentiment_logits, 1)\n",
    "            correct_sarcasm += (sarcasm_predicted == sarcasm_labels).sum().item()\n",
    "            correct_sentiment += (sentiment_predicted == sentiment_labels).sum().item()\n",
    "            total_samples += input_ids.size(0)"
   ]
  },
  {
   "cell_type": "code",
   "execution_count": 13,
   "id": "6fce8118-eeb5-479f-8e9a-c1000e54efba",
   "metadata": {},
   "outputs": [
    {
     "name": "stderr",
     "output_type": "stream",
     "text": [
      "Some weights of BertModel were not initialized from the model checkpoint at aubmindlab/bert-base-arabertv02-twitter and are newly initialized: ['bert.pooler.dense.bias', 'bert.pooler.dense.weight']\n",
      "You should probably TRAIN this model on a down-stream task to be able to use it for predictions and inference.\n"
     ]
    },
    {
     "name": "stdout",
     "output_type": "stream",
     "text": [
      "----------------------------------------------------------\n",
      "Training with w1:0.9 and w2:0.1\n",
      "\n"
     ]
    },
    {
     "name": "stderr",
     "output_type": "stream",
     "text": [
      "Training: 100%|█████████████████████████████████████████████████████████████████| 186/186 [00:53<00:00,  3.48it/s]\n",
      "Validation: 100%|█████████████████████████████████████████████████████████████████| 33/33 [00:02<00:00, 12.96it/s]\n"
     ]
    },
    {
     "name": "stdout",
     "output_type": "stream",
     "text": [
      "Epoch 1,\n",
      " Training - Avg Loss: 0.2645, Sarcasm Acc: 0.9496, Sentiment Acc: 0.4933,\n",
      " Validation - Avg Loss: 0.9296, Sarcasm Val Acc: 0.9468, Sentiment Val Acc: 0.6350\n",
      "\n"
     ]
    },
    {
     "name": "stderr",
     "output_type": "stream",
     "text": [
      "Training: 100%|█████████████████████████████████████████████████████████████████| 186/186 [00:50<00:00,  3.70it/s]\n",
      "Validation: 100%|█████████████████████████████████████████████████████████████████| 33/33 [00:02<00:00, 13.87it/s]\n"
     ]
    },
    {
     "name": "stdout",
     "output_type": "stream",
     "text": [
      "Epoch 2,\n",
      " Training - Avg Loss: 0.1889, Sarcasm Acc: 0.9607, Sentiment Acc: 0.6267,\n",
      " Validation - Avg Loss: 0.8052, Sarcasm Val Acc: 0.9601, Sentiment Val Acc: 0.6768\n",
      "\n"
     ]
    },
    {
     "name": "stderr",
     "output_type": "stream",
     "text": [
      "Training: 100%|█████████████████████████████████████████████████████████████████| 186/186 [00:49<00:00,  3.77it/s]\n",
      "Validation: 100%|█████████████████████████████████████████████████████████████████| 33/33 [00:02<00:00, 13.86it/s]\n"
     ]
    },
    {
     "name": "stdout",
     "output_type": "stream",
     "text": [
      "Epoch 3,\n",
      " Training - Avg Loss: 0.1416, Sarcasm Acc: 0.9758, Sentiment Acc: 0.6663,\n",
      " Validation - Avg Loss: 0.7565, Sarcasm Val Acc: 0.9487, Sentiment Val Acc: 0.7034\n",
      "\n"
     ]
    },
    {
     "name": "stderr",
     "output_type": "stream",
     "text": [
      "Training: 100%|█████████████████████████████████████████████████████████████████| 186/186 [00:49<00:00,  3.72it/s]\n",
      "Validation: 100%|█████████████████████████████████████████████████████████████████| 33/33 [00:02<00:00, 13.44it/s]\n"
     ]
    },
    {
     "name": "stdout",
     "output_type": "stream",
     "text": [
      "Epoch 4,\n",
      " Training - Avg Loss: 0.1071, Sarcasm Acc: 0.9886, Sentiment Acc: 0.6989,\n",
      " Validation - Avg Loss: 0.7376, Sarcasm Val Acc: 0.9582, Sentiment Val Acc: 0.7243\n",
      "\n"
     ]
    },
    {
     "name": "stderr",
     "output_type": "stream",
     "text": [
      "Training: 100%|█████████████████████████████████████████████████████████████████| 186/186 [00:53<00:00,  3.50it/s]\n",
      "Validation: 100%|█████████████████████████████████████████████████████████████████| 33/33 [00:02<00:00, 11.84it/s]\n"
     ]
    },
    {
     "name": "stdout",
     "output_type": "stream",
     "text": [
      "Epoch 5,\n",
      " Training - Avg Loss: 0.0811, Sarcasm Acc: 0.9956, Sentiment Acc: 0.7292,\n",
      " Validation - Avg Loss: 0.7496, Sarcasm Val Acc: 0.9506, Sentiment Val Acc: 0.7091\n",
      "\n"
     ]
    },
    {
     "name": "stderr",
     "output_type": "stream",
     "text": [
      "Training: 100%|█████████████████████████████████████████████████████████████████| 186/186 [00:59<00:00,  3.11it/s]\n",
      "Validation: 100%|█████████████████████████████████████████████████████████████████| 33/33 [00:03<00:00, 10.34it/s]\n"
     ]
    },
    {
     "name": "stdout",
     "output_type": "stream",
     "text": [
      "Epoch 6,\n",
      " Training - Avg Loss: 0.0690, Sarcasm Acc: 0.9973, Sentiment Acc: 0.7550,\n",
      " Validation - Avg Loss: 0.7442, Sarcasm Val Acc: 0.9582, Sentiment Val Acc: 0.7110\n",
      "\n"
     ]
    },
    {
     "name": "stderr",
     "output_type": "stream",
     "text": [
      "Training: 100%|█████████████████████████████████████████████████████████████████| 186/186 [01:03<00:00,  2.92it/s]\n",
      "Validation: 100%|█████████████████████████████████████████████████████████████████| 33/33 [00:03<00:00, 10.33it/s]\n"
     ]
    },
    {
     "name": "stdout",
     "output_type": "stream",
     "text": [
      "Epoch 7,\n",
      " Training - Avg Loss: 0.0600, Sarcasm Acc: 0.9990, Sentiment Acc: 0.7779,\n",
      " Validation - Avg Loss: 0.7885, Sarcasm Val Acc: 0.9601, Sentiment Val Acc: 0.7186\n",
      "\n"
     ]
    },
    {
     "name": "stderr",
     "output_type": "stream",
     "text": [
      "Training: 100%|█████████████████████████████████████████████████████████████████| 186/186 [01:00<00:00,  3.09it/s]\n",
      "Validation: 100%|█████████████████████████████████████████████████████████████████| 33/33 [00:02<00:00, 11.38it/s]\n"
     ]
    },
    {
     "name": "stdout",
     "output_type": "stream",
     "text": [
      "Epoch 8,\n",
      " Training - Avg Loss: 0.0524, Sarcasm Acc: 0.9997, Sentiment Acc: 0.8024,\n",
      " Validation - Avg Loss: 0.7856, Sarcasm Val Acc: 0.9525, Sentiment Val Acc: 0.6939\n",
      "\n"
     ]
    },
    {
     "name": "stderr",
     "output_type": "stream",
     "text": [
      "Training: 100%|█████████████████████████████████████████████████████████████████| 186/186 [00:56<00:00,  3.27it/s]\n",
      "Validation: 100%|█████████████████████████████████████████████████████████████████| 33/33 [00:02<00:00, 11.81it/s]\n"
     ]
    },
    {
     "name": "stdout",
     "output_type": "stream",
     "text": [
      "Epoch 9,\n",
      " Training - Avg Loss: 0.0453, Sarcasm Acc: 0.9997, Sentiment Acc: 0.8323,\n",
      " Validation - Avg Loss: 0.8362, Sarcasm Val Acc: 0.9582, Sentiment Val Acc: 0.7129\n",
      "\n"
     ]
    },
    {
     "name": "stderr",
     "output_type": "stream",
     "text": [
      "Training: 100%|█████████████████████████████████████████████████████████████████| 186/186 [00:55<00:00,  3.36it/s]\n",
      "Validation: 100%|█████████████████████████████████████████████████████████████████| 33/33 [00:02<00:00, 12.21it/s]\n"
     ]
    },
    {
     "name": "stdout",
     "output_type": "stream",
     "text": [
      "Epoch 10,\n",
      " Training - Avg Loss: 0.0377, Sarcasm Acc: 0.9997, Sentiment Acc: 0.8629,\n",
      " Validation - Avg Loss: 0.8870, Sarcasm Val Acc: 0.9601, Sentiment Val Acc: 0.6806\n",
      "\n"
     ]
    },
    {
     "name": "stderr",
     "output_type": "stream",
     "text": [
      "Some weights of BertModel were not initialized from the model checkpoint at aubmindlab/bert-base-arabertv02-twitter and are newly initialized: ['bert.pooler.dense.bias', 'bert.pooler.dense.weight']\n",
      "You should probably TRAIN this model on a down-stream task to be able to use it for predictions and inference.\n"
     ]
    },
    {
     "name": "stdout",
     "output_type": "stream",
     "text": [
      "----------------------------------------------------------\n",
      "Training with w1:0.8 and w2:0.2\n",
      "\n"
     ]
    },
    {
     "name": "stderr",
     "output_type": "stream",
     "text": [
      "Training: 100%|█████████████████████████████████████████████████████████████████| 186/186 [00:54<00:00,  3.44it/s]\n",
      "Validation: 100%|█████████████████████████████████████████████████████████████████| 33/33 [00:02<00:00, 12.61it/s]\n"
     ]
    },
    {
     "name": "stdout",
     "output_type": "stream",
     "text": [
      "Epoch 1,\n",
      " Training - Avg Loss: 0.3303, Sarcasm Acc: 0.9546, Sentiment Acc: 0.5386,\n",
      " Validation - Avg Loss: 0.7306, Sarcasm Val Acc: 0.9563, Sentiment Val Acc: 0.6806\n",
      "\n"
     ]
    },
    {
     "name": "stderr",
     "output_type": "stream",
     "text": [
      "Training: 100%|█████████████████████████████████████████████████████████████████| 186/186 [00:53<00:00,  3.50it/s]\n",
      "Validation: 100%|█████████████████████████████████████████████████████████████████| 33/33 [00:02<00:00, 12.74it/s]\n"
     ]
    },
    {
     "name": "stdout",
     "output_type": "stream",
     "text": [
      "Epoch 2,\n",
      " Training - Avg Loss: 0.2419, Sarcasm Acc: 0.9630, Sentiment Acc: 0.6828,\n",
      " Validation - Avg Loss: 0.6593, Sarcasm Val Acc: 0.9468, Sentiment Val Acc: 0.7262\n",
      "\n"
     ]
    },
    {
     "name": "stderr",
     "output_type": "stream",
     "text": [
      "Training: 100%|█████████████████████████████████████████████████████████████████| 186/186 [00:53<00:00,  3.51it/s]\n",
      "Validation: 100%|█████████████████████████████████████████████████████████████████| 33/33 [00:02<00:00, 12.65it/s]\n"
     ]
    },
    {
     "name": "stdout",
     "output_type": "stream",
     "text": [
      "Epoch 3,\n",
      " Training - Avg Loss: 0.1966, Sarcasm Acc: 0.9688, Sentiment Acc: 0.7298,\n",
      " Validation - Avg Loss: 0.6159, Sarcasm Val Acc: 0.9601, Sentiment Val Acc: 0.7110\n",
      "\n"
     ]
    },
    {
     "name": "stderr",
     "output_type": "stream",
     "text": [
      "Training: 100%|█████████████████████████████████████████████████████████████████| 186/186 [00:53<00:00,  3.45it/s]\n",
      "Validation: 100%|█████████████████████████████████████████████████████████████████| 33/33 [00:02<00:00, 12.74it/s]\n"
     ]
    },
    {
     "name": "stdout",
     "output_type": "stream",
     "text": [
      "Epoch 4,\n",
      " Training - Avg Loss: 0.1496, Sarcasm Acc: 0.9869, Sentiment Acc: 0.7695,\n",
      " Validation - Avg Loss: 0.6290, Sarcasm Val Acc: 0.9544, Sentiment Val Acc: 0.7395\n",
      "\n"
     ]
    },
    {
     "name": "stderr",
     "output_type": "stream",
     "text": [
      "Training: 100%|█████████████████████████████████████████████████████████████████| 186/186 [00:55<00:00,  3.38it/s]\n",
      "Validation: 100%|█████████████████████████████████████████████████████████████████| 33/33 [00:02<00:00, 11.89it/s]\n"
     ]
    },
    {
     "name": "stdout",
     "output_type": "stream",
     "text": [
      "Epoch 5,\n",
      " Training - Avg Loss: 0.1178, Sarcasm Acc: 0.9933, Sentiment Acc: 0.8065,\n",
      " Validation - Avg Loss: 0.6384, Sarcasm Val Acc: 0.9525, Sentiment Val Acc: 0.7319\n",
      "\n"
     ]
    },
    {
     "name": "stderr",
     "output_type": "stream",
     "text": [
      "Training: 100%|█████████████████████████████████████████████████████████████████| 186/186 [00:58<00:00,  3.21it/s]\n",
      "Validation: 100%|█████████████████████████████████████████████████████████████████| 33/33 [00:02<00:00, 11.64it/s]\n"
     ]
    },
    {
     "name": "stdout",
     "output_type": "stream",
     "text": [
      "Epoch 6,\n",
      " Training - Avg Loss: 0.0892, Sarcasm Acc: 0.9976, Sentiment Acc: 0.8585,\n",
      " Validation - Avg Loss: 0.6750, Sarcasm Val Acc: 0.9582, Sentiment Val Acc: 0.7357\n",
      "\n"
     ]
    },
    {
     "name": "stderr",
     "output_type": "stream",
     "text": [
      "Training: 100%|█████████████████████████████████████████████████████████████████| 186/186 [00:56<00:00,  3.29it/s]\n",
      "Validation: 100%|█████████████████████████████████████████████████████████████████| 33/33 [00:02<00:00, 11.92it/s]\n"
     ]
    },
    {
     "name": "stdout",
     "output_type": "stream",
     "text": [
      "Epoch 7,\n",
      " Training - Avg Loss: 0.0694, Sarcasm Acc: 0.9980, Sentiment Acc: 0.8911,\n",
      " Validation - Avg Loss: 0.7381, Sarcasm Val Acc: 0.9563, Sentiment Val Acc: 0.7186\n",
      "\n"
     ]
    },
    {
     "name": "stderr",
     "output_type": "stream",
     "text": [
      "Training: 100%|█████████████████████████████████████████████████████████████████| 186/186 [00:55<00:00,  3.34it/s]\n",
      "Validation: 100%|█████████████████████████████████████████████████████████████████| 33/33 [00:02<00:00, 12.18it/s]\n"
     ]
    },
    {
     "name": "stdout",
     "output_type": "stream",
     "text": [
      "Epoch 8,\n",
      " Training - Avg Loss: 0.0519, Sarcasm Acc: 0.9980, Sentiment Acc: 0.9267,\n",
      " Validation - Avg Loss: 0.8776, Sarcasm Val Acc: 0.9620, Sentiment Val Acc: 0.6920\n",
      "\n"
     ]
    },
    {
     "name": "stderr",
     "output_type": "stream",
     "text": [
      "Training: 100%|█████████████████████████████████████████████████████████████████| 186/186 [00:54<00:00,  3.38it/s]\n",
      "Validation: 100%|█████████████████████████████████████████████████████████████████| 33/33 [00:02<00:00, 12.43it/s]\n"
     ]
    },
    {
     "name": "stdout",
     "output_type": "stream",
     "text": [
      "Epoch 9,\n",
      " Training - Avg Loss: 0.0347, Sarcasm Acc: 0.9993, Sentiment Acc: 0.9509,\n",
      " Validation - Avg Loss: 0.9539, Sarcasm Val Acc: 0.9620, Sentiment Val Acc: 0.7129\n",
      "\n"
     ]
    },
    {
     "name": "stderr",
     "output_type": "stream",
     "text": [
      "Training: 100%|█████████████████████████████████████████████████████████████████| 186/186 [00:54<00:00,  3.44it/s]\n",
      "Validation: 100%|█████████████████████████████████████████████████████████████████| 33/33 [00:02<00:00, 12.58it/s]\n"
     ]
    },
    {
     "name": "stdout",
     "output_type": "stream",
     "text": [
      "Epoch 10,\n",
      " Training - Avg Loss: 0.0272, Sarcasm Acc: 0.9973, Sentiment Acc: 0.9654,\n",
      " Validation - Avg Loss: 1.0828, Sarcasm Val Acc: 0.9639, Sentiment Val Acc: 0.7224\n",
      "\n"
     ]
    },
    {
     "name": "stderr",
     "output_type": "stream",
     "text": [
      "Some weights of BertModel were not initialized from the model checkpoint at aubmindlab/bert-base-arabertv02-twitter and are newly initialized: ['bert.pooler.dense.bias', 'bert.pooler.dense.weight']\n",
      "You should probably TRAIN this model on a down-stream task to be able to use it for predictions and inference.\n"
     ]
    },
    {
     "name": "stdout",
     "output_type": "stream",
     "text": [
      "----------------------------------------------------------\n",
      "Training with w1:0.7000000000000001 and w2:0.30000000000000004\n",
      "\n"
     ]
    },
    {
     "name": "stderr",
     "output_type": "stream",
     "text": [
      "Training: 100%|█████████████████████████████████████████████████████████████████| 186/186 [00:53<00:00,  3.48it/s]\n",
      "Validation: 100%|█████████████████████████████████████████████████████████████████| 33/33 [00:02<00:00, 12.56it/s]\n"
     ]
    },
    {
     "name": "stdout",
     "output_type": "stream",
     "text": [
      "Epoch 1,\n",
      " Training - Avg Loss: 0.4162, Sarcasm Acc: 0.9392, Sentiment Acc: 0.5575,\n",
      " Validation - Avg Loss: 0.6267, Sarcasm Val Acc: 0.9468, Sentiment Val Acc: 0.6882\n",
      "\n"
     ]
    },
    {
     "name": "stderr",
     "output_type": "stream",
     "text": [
      "Training: 100%|█████████████████████████████████████████████████████████████████| 186/186 [00:53<00:00,  3.50it/s]\n",
      "Validation: 100%|█████████████████████████████████████████████████████████████████| 33/33 [00:02<00:00, 12.61it/s]\n"
     ]
    },
    {
     "name": "stdout",
     "output_type": "stream",
     "text": [
      "Epoch 2,\n",
      " Training - Avg Loss: 0.3034, Sarcasm Acc: 0.9573, Sentiment Acc: 0.6956,\n",
      " Validation - Avg Loss: 0.5571, Sarcasm Val Acc: 0.9601, Sentiment Val Acc: 0.7110\n",
      "\n"
     ]
    },
    {
     "name": "stderr",
     "output_type": "stream",
     "text": [
      "Training: 100%|█████████████████████████████████████████████████████████████████| 186/186 [00:53<00:00,  3.49it/s]\n",
      "Validation: 100%|█████████████████████████████████████████████████████████████████| 33/33 [00:02<00:00, 12.55it/s]\n"
     ]
    },
    {
     "name": "stdout",
     "output_type": "stream",
     "text": [
      "Epoch 3,\n",
      " Training - Avg Loss: 0.2473, Sarcasm Acc: 0.9694, Sentiment Acc: 0.7544,\n",
      " Validation - Avg Loss: 0.5949, Sarcasm Val Acc: 0.9620, Sentiment Val Acc: 0.6787\n",
      "\n"
     ]
    },
    {
     "name": "stderr",
     "output_type": "stream",
     "text": [
      "Training: 100%|█████████████████████████████████████████████████████████████████| 186/186 [00:53<00:00,  3.45it/s]\n",
      "Validation: 100%|█████████████████████████████████████████████████████████████████| 33/33 [00:02<00:00, 12.23it/s]\n"
     ]
    },
    {
     "name": "stdout",
     "output_type": "stream",
     "text": [
      "Epoch 4,\n",
      " Training - Avg Loss: 0.1992, Sarcasm Acc: 0.9825, Sentiment Acc: 0.7930,\n",
      " Validation - Avg Loss: 0.5685, Sarcasm Val Acc: 0.9544, Sentiment Val Acc: 0.7281\n",
      "\n"
     ]
    },
    {
     "name": "stderr",
     "output_type": "stream",
     "text": [
      "Training: 100%|█████████████████████████████████████████████████████████████████| 186/186 [00:55<00:00,  3.37it/s]\n",
      "Validation: 100%|█████████████████████████████████████████████████████████████████| 33/33 [00:02<00:00, 12.14it/s]\n"
     ]
    },
    {
     "name": "stdout",
     "output_type": "stream",
     "text": [
      "Epoch 5,\n",
      " Training - Avg Loss: 0.1464, Sarcasm Acc: 0.9919, Sentiment Acc: 0.8515,\n",
      " Validation - Avg Loss: 0.5856, Sarcasm Val Acc: 0.9563, Sentiment Val Acc: 0.7110\n",
      "\n"
     ]
    },
    {
     "name": "stderr",
     "output_type": "stream",
     "text": [
      "Training: 100%|█████████████████████████████████████████████████████████████████| 186/186 [00:54<00:00,  3.38it/s]\n",
      "Validation: 100%|█████████████████████████████████████████████████████████████████| 33/33 [00:02<00:00, 12.21it/s]\n"
     ]
    },
    {
     "name": "stdout",
     "output_type": "stream",
     "text": [
      "Epoch 6,\n",
      " Training - Avg Loss: 0.1066, Sarcasm Acc: 0.9960, Sentiment Acc: 0.9005,\n",
      " Validation - Avg Loss: 0.6818, Sarcasm Val Acc: 0.9544, Sentiment Val Acc: 0.6939\n",
      "\n"
     ]
    },
    {
     "name": "stderr",
     "output_type": "stream",
     "text": [
      "Training: 100%|█████████████████████████████████████████████████████████████████| 186/186 [00:55<00:00,  3.37it/s]\n",
      "Validation: 100%|█████████████████████████████████████████████████████████████████| 33/33 [00:02<00:00, 12.25it/s]\n"
     ]
    },
    {
     "name": "stdout",
     "output_type": "stream",
     "text": [
      "Epoch 7,\n",
      " Training - Avg Loss: 0.0782, Sarcasm Acc: 0.9966, Sentiment Acc: 0.9281,\n",
      " Validation - Avg Loss: 0.7689, Sarcasm Val Acc: 0.9487, Sentiment Val Acc: 0.6787\n",
      "\n"
     ]
    },
    {
     "name": "stderr",
     "output_type": "stream",
     "text": [
      "Training: 100%|█████████████████████████████████████████████████████████████████| 186/186 [00:55<00:00,  3.38it/s]\n",
      "Validation: 100%|█████████████████████████████████████████████████████████████████| 33/33 [00:02<00:00, 12.29it/s]\n"
     ]
    },
    {
     "name": "stdout",
     "output_type": "stream",
     "text": [
      "Epoch 8,\n",
      " Training - Avg Loss: 0.0547, Sarcasm Acc: 0.9973, Sentiment Acc: 0.9513,\n",
      " Validation - Avg Loss: 0.8326, Sarcasm Val Acc: 0.9582, Sentiment Val Acc: 0.6806\n",
      "\n"
     ]
    },
    {
     "name": "stderr",
     "output_type": "stream",
     "text": [
      "Training: 100%|█████████████████████████████████████████████████████████████████| 186/186 [00:54<00:00,  3.39it/s]\n",
      "Validation: 100%|█████████████████████████████████████████████████████████████████| 33/33 [00:02<00:00, 12.30it/s]\n"
     ]
    },
    {
     "name": "stdout",
     "output_type": "stream",
     "text": [
      "Epoch 9,\n",
      " Training - Avg Loss: 0.0398, Sarcasm Acc: 0.9976, Sentiment Acc: 0.9688,\n",
      " Validation - Avg Loss: 0.9201, Sarcasm Val Acc: 0.9544, Sentiment Val Acc: 0.6977\n",
      "\n"
     ]
    },
    {
     "name": "stderr",
     "output_type": "stream",
     "text": [
      "Training: 100%|█████████████████████████████████████████████████████████████████| 186/186 [00:54<00:00,  3.40it/s]\n",
      "Validation: 100%|█████████████████████████████████████████████████████████████████| 33/33 [00:02<00:00, 12.32it/s]\n"
     ]
    },
    {
     "name": "stdout",
     "output_type": "stream",
     "text": [
      "Epoch 10,\n",
      " Training - Avg Loss: 0.0276, Sarcasm Acc: 0.9983, Sentiment Acc: 0.9782,\n",
      " Validation - Avg Loss: 1.0055, Sarcasm Val Acc: 0.9582, Sentiment Val Acc: 0.6863\n",
      "\n"
     ]
    },
    {
     "name": "stderr",
     "output_type": "stream",
     "text": [
      "Some weights of BertModel were not initialized from the model checkpoint at aubmindlab/bert-base-arabertv02-twitter and are newly initialized: ['bert.pooler.dense.bias', 'bert.pooler.dense.weight']\n",
      "You should probably TRAIN this model on a down-stream task to be able to use it for predictions and inference.\n"
     ]
    },
    {
     "name": "stdout",
     "output_type": "stream",
     "text": [
      "----------------------------------------------------------\n",
      "Training with w1:0.6000000000000001 and w2:0.4\n",
      "\n"
     ]
    },
    {
     "name": "stderr",
     "output_type": "stream",
     "text": [
      "Training: 100%|█████████████████████████████████████████████████████████████████| 186/186 [00:54<00:00,  3.41it/s]\n",
      "Validation: 100%|█████████████████████████████████████████████████████████████████| 33/33 [00:02<00:00, 12.33it/s]\n"
     ]
    },
    {
     "name": "stdout",
     "output_type": "stream",
     "text": [
      "Epoch 1,\n",
      " Training - Avg Loss: 0.4592, Sarcasm Acc: 0.9543, Sentiment Acc: 0.6008,\n",
      " Validation - Avg Loss: 0.5034, Sarcasm Val Acc: 0.9468, Sentiment Val Acc: 0.7148\n",
      "\n"
     ]
    },
    {
     "name": "stderr",
     "output_type": "stream",
     "text": [
      "Training: 100%|█████████████████████████████████████████████████████████████████| 186/186 [00:54<00:00,  3.42it/s]\n",
      "Validation: 100%|█████████████████████████████████████████████████████████████████| 33/33 [00:02<00:00, 12.42it/s]\n"
     ]
    },
    {
     "name": "stdout",
     "output_type": "stream",
     "text": [
      "Epoch 2,\n",
      " Training - Avg Loss: 0.3484, Sarcasm Acc: 0.9570, Sentiment Acc: 0.7140,\n",
      " Validation - Avg Loss: 0.4679, Sarcasm Val Acc: 0.9506, Sentiment Val Acc: 0.7300\n",
      "\n"
     ]
    },
    {
     "name": "stderr",
     "output_type": "stream",
     "text": [
      "Training: 100%|█████████████████████████████████████████████████████████████████| 186/186 [00:54<00:00,  3.43it/s]\n",
      "Validation: 100%|█████████████████████████████████████████████████████████████████| 33/33 [00:02<00:00, 12.35it/s]\n"
     ]
    },
    {
     "name": "stdout",
     "output_type": "stream",
     "text": [
      "Epoch 3,\n",
      " Training - Avg Loss: 0.2874, Sarcasm Acc: 0.9664, Sentiment Acc: 0.7789,\n",
      " Validation - Avg Loss: 0.4597, Sarcasm Val Acc: 0.9601, Sentiment Val Acc: 0.7243\n",
      "\n"
     ]
    },
    {
     "name": "stderr",
     "output_type": "stream",
     "text": [
      "Training: 100%|█████████████████████████████████████████████████████████████████| 186/186 [00:54<00:00,  3.42it/s]\n",
      "Validation: 100%|█████████████████████████████████████████████████████████████████| 33/33 [00:02<00:00, 12.32it/s]\n"
     ]
    },
    {
     "name": "stdout",
     "output_type": "stream",
     "text": [
      "Epoch 4,\n",
      " Training - Avg Loss: 0.2272, Sarcasm Acc: 0.9724, Sentiment Acc: 0.8333,\n",
      " Validation - Avg Loss: 0.4860, Sarcasm Val Acc: 0.9544, Sentiment Val Acc: 0.7034\n",
      "\n"
     ]
    },
    {
     "name": "stderr",
     "output_type": "stream",
     "text": [
      "Training: 100%|█████████████████████████████████████████████████████████████████| 186/186 [00:54<00:00,  3.39it/s]\n",
      "Validation: 100%|█████████████████████████████████████████████████████████████████| 33/33 [00:02<00:00, 12.32it/s]\n"
     ]
    },
    {
     "name": "stdout",
     "output_type": "stream",
     "text": [
      "Epoch 5,\n",
      " Training - Avg Loss: 0.1602, Sarcasm Acc: 0.9835, Sentiment Acc: 0.8851,\n",
      " Validation - Avg Loss: 0.5464, Sarcasm Val Acc: 0.9506, Sentiment Val Acc: 0.7091\n",
      "\n"
     ]
    },
    {
     "name": "stderr",
     "output_type": "stream",
     "text": [
      "Training: 100%|█████████████████████████████████████████████████████████████████| 186/186 [00:55<00:00,  3.37it/s]\n",
      "Validation: 100%|█████████████████████████████████████████████████████████████████| 33/33 [00:02<00:00, 12.26it/s]\n"
     ]
    },
    {
     "name": "stdout",
     "output_type": "stream",
     "text": [
      "Epoch 6,\n",
      " Training - Avg Loss: 0.1184, Sarcasm Acc: 0.9889, Sentiment Acc: 0.9187,\n",
      " Validation - Avg Loss: 0.6026, Sarcasm Val Acc: 0.9544, Sentiment Val Acc: 0.7091\n",
      "\n"
     ]
    },
    {
     "name": "stderr",
     "output_type": "stream",
     "text": [
      "Training: 100%|█████████████████████████████████████████████████████████████████| 186/186 [00:55<00:00,  3.36it/s]\n",
      "Validation: 100%|█████████████████████████████████████████████████████████████████| 33/33 [00:02<00:00, 12.09it/s]\n"
     ]
    },
    {
     "name": "stdout",
     "output_type": "stream",
     "text": [
      "Epoch 7,\n",
      " Training - Avg Loss: 0.0750, Sarcasm Acc: 0.9923, Sentiment Acc: 0.9516,\n",
      " Validation - Avg Loss: 0.6675, Sarcasm Val Acc: 0.9544, Sentiment Val Acc: 0.6901\n",
      "\n"
     ]
    },
    {
     "name": "stderr",
     "output_type": "stream",
     "text": [
      "Training: 100%|█████████████████████████████████████████████████████████████████| 186/186 [00:54<00:00,  3.39it/s]\n",
      "Validation: 100%|█████████████████████████████████████████████████████████████████| 33/33 [00:02<00:00, 12.38it/s]\n"
     ]
    },
    {
     "name": "stdout",
     "output_type": "stream",
     "text": [
      "Epoch 8,\n",
      " Training - Avg Loss: 0.0516, Sarcasm Acc: 0.9960, Sentiment Acc: 0.9691,\n",
      " Validation - Avg Loss: 0.7494, Sarcasm Val Acc: 0.9563, Sentiment Val Acc: 0.7148\n",
      "\n"
     ]
    },
    {
     "name": "stderr",
     "output_type": "stream",
     "text": [
      "Training: 100%|█████████████████████████████████████████████████████████████████| 186/186 [00:54<00:00,  3.41it/s]\n",
      "Validation: 100%|█████████████████████████████████████████████████████████████████| 33/33 [00:02<00:00, 12.39it/s]\n"
     ]
    },
    {
     "name": "stdout",
     "output_type": "stream",
     "text": [
      "Epoch 9,\n",
      " Training - Avg Loss: 0.0351, Sarcasm Acc: 0.9966, Sentiment Acc: 0.9829,\n",
      " Validation - Avg Loss: 0.8268, Sarcasm Val Acc: 0.9506, Sentiment Val Acc: 0.7110\n",
      "\n"
     ]
    },
    {
     "name": "stderr",
     "output_type": "stream",
     "text": [
      "Training: 100%|█████████████████████████████████████████████████████████████████| 186/186 [00:54<00:00,  3.41it/s]\n",
      "Validation: 100%|█████████████████████████████████████████████████████████████████| 33/33 [00:02<00:00, 12.35it/s]\n"
     ]
    },
    {
     "name": "stdout",
     "output_type": "stream",
     "text": [
      "Epoch 10,\n",
      " Training - Avg Loss: 0.0228, Sarcasm Acc: 0.9983, Sentiment Acc: 0.9899,\n",
      " Validation - Avg Loss: 0.9114, Sarcasm Val Acc: 0.9506, Sentiment Val Acc: 0.6901\n",
      "\n"
     ]
    },
    {
     "name": "stderr",
     "output_type": "stream",
     "text": [
      "Some weights of BertModel were not initialized from the model checkpoint at aubmindlab/bert-base-arabertv02-twitter and are newly initialized: ['bert.pooler.dense.bias', 'bert.pooler.dense.weight']\n",
      "You should probably TRAIN this model on a down-stream task to be able to use it for predictions and inference.\n"
     ]
    },
    {
     "name": "stdout",
     "output_type": "stream",
     "text": [
      "----------------------------------------------------------\n",
      "Training with w1:0.5000000000000001 and w2:0.5\n",
      "\n"
     ]
    },
    {
     "name": "stderr",
     "output_type": "stream",
     "text": [
      "Training: 100%|█████████████████████████████████████████████████████████████████| 186/186 [00:54<00:00,  3.41it/s]\n",
      "Validation: 100%|█████████████████████████████████████████████████████████████████| 33/33 [00:02<00:00, 12.40it/s]\n"
     ]
    },
    {
     "name": "stdout",
     "output_type": "stream",
     "text": [
      "Epoch 1,\n",
      " Training - Avg Loss: 0.5491, Sarcasm Acc: 0.9513, Sentiment Acc: 0.5709,\n",
      " Validation - Avg Loss: 0.4381, Sarcasm Val Acc: 0.9468, Sentiment Val Acc: 0.7053\n",
      "\n"
     ]
    },
    {
     "name": "stderr",
     "output_type": "stream",
     "text": [
      "Training: 100%|█████████████████████████████████████████████████████████████████| 186/186 [00:54<00:00,  3.42it/s]\n",
      "Validation: 100%|█████████████████████████████████████████████████████████████████| 33/33 [00:02<00:00, 12.43it/s]\n"
     ]
    },
    {
     "name": "stdout",
     "output_type": "stream",
     "text": [
      "Epoch 2,\n",
      " Training - Avg Loss: 0.4092, Sarcasm Acc: 0.9546, Sentiment Acc: 0.7184,\n",
      " Validation - Avg Loss: 0.4102, Sarcasm Val Acc: 0.9468, Sentiment Val Acc: 0.7072\n",
      "\n"
     ]
    },
    {
     "name": "stderr",
     "output_type": "stream",
     "text": [
      "Training: 100%|█████████████████████████████████████████████████████████████████| 186/186 [00:54<00:00,  3.41it/s]\n",
      "Validation: 100%|█████████████████████████████████████████████████████████████████| 33/33 [00:02<00:00, 12.26it/s]\n"
     ]
    },
    {
     "name": "stdout",
     "output_type": "stream",
     "text": [
      "Epoch 3,\n",
      " Training - Avg Loss: 0.3383, Sarcasm Acc: 0.9593, Sentiment Acc: 0.7772,\n",
      " Validation - Avg Loss: 0.3864, Sarcasm Val Acc: 0.9582, Sentiment Val Acc: 0.7319\n",
      "\n"
     ]
    },
    {
     "name": "stderr",
     "output_type": "stream",
     "text": [
      "Training: 100%|█████████████████████████████████████████████████████████████████| 186/186 [00:54<00:00,  3.38it/s]\n",
      "Validation: 100%|█████████████████████████████████████████████████████████████████| 33/33 [00:02<00:00, 12.27it/s]\n"
     ]
    },
    {
     "name": "stdout",
     "output_type": "stream",
     "text": [
      "Epoch 4,\n",
      " Training - Avg Loss: 0.2647, Sarcasm Acc: 0.9657, Sentiment Acc: 0.8384,\n",
      " Validation - Avg Loss: 0.3974, Sarcasm Val Acc: 0.9563, Sentiment Val Acc: 0.7262\n",
      "\n"
     ]
    },
    {
     "name": "stderr",
     "output_type": "stream",
     "text": [
      "Training: 100%|█████████████████████████████████████████████████████████████████| 186/186 [00:55<00:00,  3.36it/s]\n",
      "Validation: 100%|█████████████████████████████████████████████████████████████████| 33/33 [00:02<00:00, 12.11it/s]\n"
     ]
    },
    {
     "name": "stdout",
     "output_type": "stream",
     "text": [
      "Epoch 5,\n",
      " Training - Avg Loss: 0.1956, Sarcasm Acc: 0.9741, Sentiment Acc: 0.8915,\n",
      " Validation - Avg Loss: 0.4385, Sarcasm Val Acc: 0.9601, Sentiment Val Acc: 0.7072\n",
      "\n"
     ]
    },
    {
     "name": "stderr",
     "output_type": "stream",
     "text": [
      "Training: 100%|█████████████████████████████████████████████████████████████████| 186/186 [00:55<00:00,  3.36it/s]\n",
      "Validation: 100%|█████████████████████████████████████████████████████████████████| 33/33 [00:02<00:00, 12.23it/s]\n"
     ]
    },
    {
     "name": "stdout",
     "output_type": "stream",
     "text": [
      "Epoch 6,\n",
      " Training - Avg Loss: 0.1354, Sarcasm Acc: 0.9792, Sentiment Acc: 0.9325,\n",
      " Validation - Avg Loss: 0.4968, Sarcasm Val Acc: 0.9525, Sentiment Val Acc: 0.7129\n",
      "\n"
     ]
    },
    {
     "name": "stderr",
     "output_type": "stream",
     "text": [
      "Training: 100%|█████████████████████████████████████████████████████████████████| 186/186 [00:54<00:00,  3.38it/s]\n",
      "Validation: 100%|█████████████████████████████████████████████████████████████████| 33/33 [00:02<00:00, 12.30it/s]\n"
     ]
    },
    {
     "name": "stdout",
     "output_type": "stream",
     "text": [
      "Epoch 7,\n",
      " Training - Avg Loss: 0.0923, Sarcasm Acc: 0.9866, Sentiment Acc: 0.9610,\n",
      " Validation - Avg Loss: 0.5473, Sarcasm Val Acc: 0.9544, Sentiment Val Acc: 0.6958\n",
      "\n"
     ]
    },
    {
     "name": "stderr",
     "output_type": "stream",
     "text": [
      "Training: 100%|█████████████████████████████████████████████████████████████████| 186/186 [00:54<00:00,  3.39it/s]\n",
      "Validation: 100%|█████████████████████████████████████████████████████████████████| 33/33 [00:02<00:00, 12.31it/s]\n"
     ]
    },
    {
     "name": "stdout",
     "output_type": "stream",
     "text": [
      "Epoch 8,\n",
      " Training - Avg Loss: 0.0643, Sarcasm Acc: 0.9909, Sentiment Acc: 0.9701,\n",
      " Validation - Avg Loss: 0.6182, Sarcasm Val Acc: 0.9506, Sentiment Val Acc: 0.7072\n",
      "\n"
     ]
    },
    {
     "name": "stderr",
     "output_type": "stream",
     "text": [
      "Training: 100%|█████████████████████████████████████████████████████████████████| 186/186 [00:54<00:00,  3.39it/s]\n",
      "Validation: 100%|█████████████████████████████████████████████████████████████████| 33/33 [00:02<00:00, 12.31it/s]\n"
     ]
    },
    {
     "name": "stdout",
     "output_type": "stream",
     "text": [
      "Epoch 9,\n",
      " Training - Avg Loss: 0.0424, Sarcasm Acc: 0.9940, Sentiment Acc: 0.9825,\n",
      " Validation - Avg Loss: 0.6532, Sarcasm Val Acc: 0.9506, Sentiment Val Acc: 0.6958\n",
      "\n"
     ]
    },
    {
     "name": "stderr",
     "output_type": "stream",
     "text": [
      "Training: 100%|█████████████████████████████████████████████████████████████████| 186/186 [00:54<00:00,  3.41it/s]\n",
      "Validation: 100%|█████████████████████████████████████████████████████████████████| 33/33 [00:02<00:00, 12.17it/s]\n"
     ]
    },
    {
     "name": "stdout",
     "output_type": "stream",
     "text": [
      "Epoch 10,\n",
      " Training - Avg Loss: 0.0269, Sarcasm Acc: 0.9960, Sentiment Acc: 0.9909,\n",
      " Validation - Avg Loss: 0.7507, Sarcasm Val Acc: 0.9525, Sentiment Val Acc: 0.6939\n",
      "\n"
     ]
    },
    {
     "name": "stderr",
     "output_type": "stream",
     "text": [
      "Some weights of BertModel were not initialized from the model checkpoint at aubmindlab/bert-base-arabertv02-twitter and are newly initialized: ['bert.pooler.dense.bias', 'bert.pooler.dense.weight']\n",
      "You should probably TRAIN this model on a down-stream task to be able to use it for predictions and inference.\n"
     ]
    },
    {
     "name": "stdout",
     "output_type": "stream",
     "text": [
      "----------------------------------------------------------\n",
      "Training with w1:0.40000000000000013 and w2:0.6\n",
      "\n"
     ]
    },
    {
     "name": "stderr",
     "output_type": "stream",
     "text": [
      "Training: 100%|█████████████████████████████████████████████████████████████████| 186/186 [00:54<00:00,  3.42it/s]\n",
      "Validation: 100%|█████████████████████████████████████████████████████████████████| 33/33 [00:02<00:00, 12.31it/s]\n"
     ]
    },
    {
     "name": "stdout",
     "output_type": "stream",
     "text": [
      "Epoch 1,\n",
      " Training - Avg Loss: 0.6116, Sarcasm Acc: 0.9493, Sentiment Acc: 0.5907,\n",
      " Validation - Avg Loss: 0.3399, Sarcasm Val Acc: 0.9468, Sentiment Val Acc: 0.7186\n",
      "\n"
     ]
    },
    {
     "name": "stderr",
     "output_type": "stream",
     "text": [
      "Training: 100%|█████████████████████████████████████████████████████████████████| 186/186 [00:54<00:00,  3.42it/s]\n",
      "Validation: 100%|█████████████████████████████████████████████████████████████████| 33/33 [00:02<00:00, 12.40it/s]\n"
     ]
    },
    {
     "name": "stdout",
     "output_type": "stream",
     "text": [
      "Epoch 2,\n",
      " Training - Avg Loss: 0.4589, Sarcasm Acc: 0.9546, Sentiment Acc: 0.7191,\n",
      " Validation - Avg Loss: 0.3124, Sarcasm Val Acc: 0.9487, Sentiment Val Acc: 0.7414\n",
      "\n"
     ]
    },
    {
     "name": "stderr",
     "output_type": "stream",
     "text": [
      "Training: 100%|█████████████████████████████████████████████████████████████████| 186/186 [00:54<00:00,  3.44it/s]\n",
      "Validation: 100%|█████████████████████████████████████████████████████████████████| 33/33 [00:02<00:00, 12.35it/s]\n"
     ]
    },
    {
     "name": "stdout",
     "output_type": "stream",
     "text": [
      "Epoch 3,\n",
      " Training - Avg Loss: 0.3712, Sarcasm Acc: 0.9577, Sentiment Acc: 0.7974,\n",
      " Validation - Avg Loss: 0.3108, Sarcasm Val Acc: 0.9506, Sentiment Val Acc: 0.7338\n",
      "\n"
     ]
    },
    {
     "name": "stderr",
     "output_type": "stream",
     "text": [
      "Training: 100%|█████████████████████████████████████████████████████████████████| 186/186 [00:54<00:00,  3.41it/s]\n",
      "Validation: 100%|█████████████████████████████████████████████████████████████████| 33/33 [00:02<00:00, 12.28it/s]\n"
     ]
    },
    {
     "name": "stdout",
     "output_type": "stream",
     "text": [
      "Epoch 4,\n",
      " Training - Avg Loss: 0.2958, Sarcasm Acc: 0.9620, Sentiment Acc: 0.8498,\n",
      " Validation - Avg Loss: 0.3343, Sarcasm Val Acc: 0.9563, Sentiment Val Acc: 0.7243\n",
      "\n"
     ]
    },
    {
     "name": "stderr",
     "output_type": "stream",
     "text": [
      "Training: 100%|█████████████████████████████████████████████████████████████████| 186/186 [00:54<00:00,  3.39it/s]\n",
      "Validation: 100%|█████████████████████████████████████████████████████████████████| 33/33 [00:02<00:00, 12.17it/s]\n"
     ]
    },
    {
     "name": "stdout",
     "output_type": "stream",
     "text": [
      "Epoch 5,\n",
      " Training - Avg Loss: 0.2203, Sarcasm Acc: 0.9654, Sentiment Acc: 0.8965,\n",
      " Validation - Avg Loss: 0.3404, Sarcasm Val Acc: 0.9544, Sentiment Val Acc: 0.7091\n",
      "\n"
     ]
    },
    {
     "name": "stderr",
     "output_type": "stream",
     "text": [
      "Training: 100%|█████████████████████████████████████████████████████████████████| 186/186 [00:54<00:00,  3.40it/s]\n",
      "Validation: 100%|█████████████████████████████████████████████████████████████████| 33/33 [00:02<00:00, 12.31it/s]\n"
     ]
    },
    {
     "name": "stdout",
     "output_type": "stream",
     "text": [
      "Epoch 6,\n",
      " Training - Avg Loss: 0.1563, Sarcasm Acc: 0.9704, Sentiment Acc: 0.9368,\n",
      " Validation - Avg Loss: 0.3903, Sarcasm Val Acc: 0.9563, Sentiment Val Acc: 0.7072\n",
      "\n"
     ]
    },
    {
     "name": "stderr",
     "output_type": "stream",
     "text": [
      "Training: 100%|█████████████████████████████████████████████████████████████████| 186/186 [00:54<00:00,  3.40it/s]\n",
      "Validation: 100%|█████████████████████████████████████████████████████████████████| 33/33 [00:02<00:00, 12.19it/s]\n"
     ]
    },
    {
     "name": "stdout",
     "output_type": "stream",
     "text": [
      "Epoch 7,\n",
      " Training - Avg Loss: 0.1143, Sarcasm Acc: 0.9755, Sentiment Acc: 0.9570,\n",
      " Validation - Avg Loss: 0.4324, Sarcasm Val Acc: 0.9620, Sentiment Val Acc: 0.7110\n",
      "\n"
     ]
    },
    {
     "name": "stderr",
     "output_type": "stream",
     "text": [
      "Training: 100%|█████████████████████████████████████████████████████████████████| 186/186 [00:54<00:00,  3.41it/s]\n",
      "Validation: 100%|█████████████████████████████████████████████████████████████████| 33/33 [00:02<00:00, 12.48it/s]\n"
     ]
    },
    {
     "name": "stdout",
     "output_type": "stream",
     "text": [
      "Epoch 8,\n",
      " Training - Avg Loss: 0.0826, Sarcasm Acc: 0.9782, Sentiment Acc: 0.9694,\n",
      " Validation - Avg Loss: 0.5004, Sarcasm Val Acc: 0.9563, Sentiment Val Acc: 0.6901\n",
      "\n"
     ]
    },
    {
     "name": "stderr",
     "output_type": "stream",
     "text": [
      "Training: 100%|█████████████████████████████████████████████████████████████████| 186/186 [00:54<00:00,  3.41it/s]\n",
      "Validation: 100%|█████████████████████████████████████████████████████████████████| 33/33 [00:02<00:00, 12.37it/s]\n"
     ]
    },
    {
     "name": "stdout",
     "output_type": "stream",
     "text": [
      "Epoch 9,\n",
      " Training - Avg Loss: 0.0620, Sarcasm Acc: 0.9859, Sentiment Acc: 0.9785,\n",
      " Validation - Avg Loss: 0.5328, Sarcasm Val Acc: 0.9563, Sentiment Val Acc: 0.6768\n",
      "\n"
     ]
    },
    {
     "name": "stderr",
     "output_type": "stream",
     "text": [
      "Training: 100%|█████████████████████████████████████████████████████████████████| 186/186 [00:54<00:00,  3.41it/s]\n",
      "Validation: 100%|█████████████████████████████████████████████████████████████████| 33/33 [00:02<00:00, 12.37it/s]\n"
     ]
    },
    {
     "name": "stdout",
     "output_type": "stream",
     "text": [
      "Epoch 10,\n",
      " Training - Avg Loss: 0.0471, Sarcasm Acc: 0.9872, Sentiment Acc: 0.9862,\n",
      " Validation - Avg Loss: 0.5658, Sarcasm Val Acc: 0.9506, Sentiment Val Acc: 0.6958\n",
      "\n"
     ]
    },
    {
     "name": "stderr",
     "output_type": "stream",
     "text": [
      "Some weights of BertModel were not initialized from the model checkpoint at aubmindlab/bert-base-arabertv02-twitter and are newly initialized: ['bert.pooler.dense.bias', 'bert.pooler.dense.weight']\n",
      "You should probably TRAIN this model on a down-stream task to be able to use it for predictions and inference.\n"
     ]
    },
    {
     "name": "stdout",
     "output_type": "stream",
     "text": [
      "----------------------------------------------------------\n",
      "Training with w1:0.30000000000000016 and w2:0.7\n",
      "\n"
     ]
    },
    {
     "name": "stderr",
     "output_type": "stream",
     "text": [
      "Training: 100%|█████████████████████████████████████████████████████████████████| 186/186 [00:54<00:00,  3.42it/s]\n",
      "Validation: 100%|█████████████████████████████████████████████████████████████████| 33/33 [00:02<00:00, 12.07it/s]\n"
     ]
    },
    {
     "name": "stdout",
     "output_type": "stream",
     "text": [
      "Epoch 1,\n",
      " Training - Avg Loss: 0.6995, Sarcasm Acc: 0.9358, Sentiment Acc: 0.5780,\n",
      " Validation - Avg Loss: 0.2696, Sarcasm Val Acc: 0.9468, Sentiment Val Acc: 0.6920\n",
      "\n"
     ]
    },
    {
     "name": "stderr",
     "output_type": "stream",
     "text": [
      "Training: 100%|█████████████████████████████████████████████████████████████████| 186/186 [00:54<00:00,  3.43it/s]\n",
      "Validation: 100%|█████████████████████████████████████████████████████████████████| 33/33 [00:02<00:00, 12.29it/s]\n"
     ]
    },
    {
     "name": "stdout",
     "output_type": "stream",
     "text": [
      "Epoch 2,\n",
      " Training - Avg Loss: 0.5211, Sarcasm Acc: 0.9543, Sentiment Acc: 0.7174,\n",
      " Validation - Avg Loss: 0.2396, Sarcasm Val Acc: 0.9468, Sentiment Val Acc: 0.7186\n",
      "\n"
     ]
    },
    {
     "name": "stderr",
     "output_type": "stream",
     "text": [
      "Training: 100%|█████████████████████████████████████████████████████████████████| 186/186 [00:54<00:00,  3.44it/s]\n",
      "Validation: 100%|█████████████████████████████████████████████████████████████████| 33/33 [00:02<00:00, 12.52it/s]\n"
     ]
    },
    {
     "name": "stdout",
     "output_type": "stream",
     "text": [
      "Epoch 3,\n",
      " Training - Avg Loss: 0.4169, Sarcasm Acc: 0.9540, Sentiment Acc: 0.7920,\n",
      " Validation - Avg Loss: 0.2371, Sarcasm Val Acc: 0.9468, Sentiment Val Acc: 0.7262\n",
      "\n"
     ]
    },
    {
     "name": "stderr",
     "output_type": "stream",
     "text": [
      "Training: 100%|█████████████████████████████████████████████████████████████████| 186/186 [00:54<00:00,  3.44it/s]\n",
      "Validation: 100%|█████████████████████████████████████████████████████████████████| 33/33 [00:02<00:00, 12.38it/s]\n"
     ]
    },
    {
     "name": "stdout",
     "output_type": "stream",
     "text": [
      "Epoch 4,\n",
      " Training - Avg Loss: 0.3244, Sarcasm Acc: 0.9573, Sentiment Acc: 0.8532,\n",
      " Validation - Avg Loss: 0.2590, Sarcasm Val Acc: 0.9525, Sentiment Val Acc: 0.7015\n",
      "\n"
     ]
    },
    {
     "name": "stderr",
     "output_type": "stream",
     "text": [
      "Training: 100%|█████████████████████████████████████████████████████████████████| 186/186 [00:54<00:00,  3.43it/s]\n",
      "Validation: 100%|█████████████████████████████████████████████████████████████████| 33/33 [00:02<00:00, 12.30it/s]\n"
     ]
    },
    {
     "name": "stdout",
     "output_type": "stream",
     "text": [
      "Epoch 5,\n",
      " Training - Avg Loss: 0.2283, Sarcasm Acc: 0.9617, Sentiment Acc: 0.9126,\n",
      " Validation - Avg Loss: 0.2793, Sarcasm Val Acc: 0.9468, Sentiment Val Acc: 0.7129\n",
      "\n"
     ]
    },
    {
     "name": "stderr",
     "output_type": "stream",
     "text": [
      "Training: 100%|█████████████████████████████████████████████████████████████████| 186/186 [00:55<00:00,  3.38it/s]\n",
      "Validation: 100%|█████████████████████████████████████████████████████████████████| 33/33 [00:02<00:00, 12.09it/s]\n"
     ]
    },
    {
     "name": "stdout",
     "output_type": "stream",
     "text": [
      "Epoch 6,\n",
      " Training - Avg Loss: 0.1613, Sarcasm Acc: 0.9637, Sentiment Acc: 0.9442,\n",
      " Validation - Avg Loss: 0.3330, Sarcasm Val Acc: 0.9506, Sentiment Val Acc: 0.7034\n",
      "\n"
     ]
    },
    {
     "name": "stderr",
     "output_type": "stream",
     "text": [
      "Training: 100%|█████████████████████████████████████████████████████████████████| 186/186 [00:55<00:00,  3.35it/s]\n",
      "Validation: 100%|█████████████████████████████████████████████████████████████████| 33/33 [00:02<00:00, 12.21it/s]\n"
     ]
    },
    {
     "name": "stdout",
     "output_type": "stream",
     "text": [
      "Epoch 7,\n",
      " Training - Avg Loss: 0.1191, Sarcasm Acc: 0.9644, Sentiment Acc: 0.9610,\n",
      " Validation - Avg Loss: 0.3544, Sarcasm Val Acc: 0.9468, Sentiment Val Acc: 0.7034\n",
      "\n"
     ]
    },
    {
     "name": "stderr",
     "output_type": "stream",
     "text": [
      "Training: 100%|█████████████████████████████████████████████████████████████████| 186/186 [00:55<00:00,  3.38it/s]\n",
      "Validation: 100%|█████████████████████████████████████████████████████████████████| 33/33 [00:02<00:00, 12.27it/s]\n"
     ]
    },
    {
     "name": "stdout",
     "output_type": "stream",
     "text": [
      "Epoch 8,\n",
      " Training - Avg Loss: 0.0834, Sarcasm Acc: 0.9721, Sentiment Acc: 0.9761,\n",
      " Validation - Avg Loss: 0.3878, Sarcasm Val Acc: 0.9487, Sentiment Val Acc: 0.6977\n",
      "\n"
     ]
    },
    {
     "name": "stderr",
     "output_type": "stream",
     "text": [
      "Training: 100%|█████████████████████████████████████████████████████████████████| 186/186 [00:54<00:00,  3.40it/s]\n",
      "Validation: 100%|█████████████████████████████████████████████████████████████████| 33/33 [00:02<00:00, 12.18it/s]\n"
     ]
    },
    {
     "name": "stdout",
     "output_type": "stream",
     "text": [
      "Epoch 9,\n",
      " Training - Avg Loss: 0.0658, Sarcasm Acc: 0.9694, Sentiment Acc: 0.9819,\n",
      " Validation - Avg Loss: 0.4476, Sarcasm Val Acc: 0.9506, Sentiment Val Acc: 0.6958\n",
      "\n"
     ]
    },
    {
     "name": "stderr",
     "output_type": "stream",
     "text": [
      "Training: 100%|█████████████████████████████████████████████████████████████████| 186/186 [00:54<00:00,  3.42it/s]\n",
      "Validation: 100%|█████████████████████████████████████████████████████████████████| 33/33 [00:02<00:00, 12.42it/s]\n"
     ]
    },
    {
     "name": "stdout",
     "output_type": "stream",
     "text": [
      "Epoch 10,\n",
      " Training - Avg Loss: 0.0513, Sarcasm Acc: 0.9758, Sentiment Acc: 0.9889,\n",
      " Validation - Avg Loss: 0.4454, Sarcasm Val Acc: 0.9468, Sentiment Val Acc: 0.6901\n",
      "\n"
     ]
    },
    {
     "name": "stderr",
     "output_type": "stream",
     "text": [
      "Some weights of BertModel were not initialized from the model checkpoint at aubmindlab/bert-base-arabertv02-twitter and are newly initialized: ['bert.pooler.dense.bias', 'bert.pooler.dense.weight']\n",
      "You should probably TRAIN this model on a down-stream task to be able to use it for predictions and inference.\n"
     ]
    },
    {
     "name": "stdout",
     "output_type": "stream",
     "text": [
      "----------------------------------------------------------\n",
      "Training with w1:0.20000000000000015 and w2:0.7999999999999999\n",
      "\n"
     ]
    },
    {
     "name": "stderr",
     "output_type": "stream",
     "text": [
      "Training: 100%|█████████████████████████████████████████████████████████████████| 186/186 [00:54<00:00,  3.44it/s]\n",
      "Validation: 100%|█████████████████████████████████████████████████████████████████| 33/33 [00:02<00:00, 12.47it/s]\n"
     ]
    },
    {
     "name": "stdout",
     "output_type": "stream",
     "text": [
      "Epoch 1,\n",
      " Training - Avg Loss: 0.7688, Sarcasm Acc: 0.9110, Sentiment Acc: 0.5860,\n",
      " Validation - Avg Loss: 0.1838, Sarcasm Val Acc: 0.9468, Sentiment Val Acc: 0.6844\n",
      "\n"
     ]
    },
    {
     "name": "stderr",
     "output_type": "stream",
     "text": [
      "Training: 100%|█████████████████████████████████████████████████████████████████| 186/186 [00:53<00:00,  3.46it/s]\n",
      "Validation: 100%|█████████████████████████████████████████████████████████████████| 33/33 [00:02<00:00, 12.55it/s]\n"
     ]
    },
    {
     "name": "stdout",
     "output_type": "stream",
     "text": [
      "Epoch 2,\n",
      " Training - Avg Loss: 0.5660, Sarcasm Acc: 0.9543, Sentiment Acc: 0.7272,\n",
      " Validation - Avg Loss: 0.1659, Sarcasm Val Acc: 0.9468, Sentiment Val Acc: 0.7281\n",
      "\n"
     ]
    },
    {
     "name": "stderr",
     "output_type": "stream",
     "text": [
      "Training: 100%|█████████████████████████████████████████████████████████████████| 186/186 [00:53<00:00,  3.46it/s]\n",
      "Validation: 100%|█████████████████████████████████████████████████████████████████| 33/33 [00:02<00:00, 12.55it/s]\n"
     ]
    },
    {
     "name": "stdout",
     "output_type": "stream",
     "text": [
      "Epoch 3,\n",
      " Training - Avg Loss: 0.4591, Sarcasm Acc: 0.9543, Sentiment Acc: 0.7809,\n",
      " Validation - Avg Loss: 0.1633, Sarcasm Val Acc: 0.9468, Sentiment Val Acc: 0.7338\n",
      "\n"
     ]
    },
    {
     "name": "stderr",
     "output_type": "stream",
     "text": [
      "Training: 100%|█████████████████████████████████████████████████████████████████| 186/186 [00:53<00:00,  3.45it/s]\n",
      "Validation: 100%|█████████████████████████████████████████████████████████████████| 33/33 [00:02<00:00, 12.37it/s]\n"
     ]
    },
    {
     "name": "stdout",
     "output_type": "stream",
     "text": [
      "Epoch 4,\n",
      " Training - Avg Loss: 0.3516, Sarcasm Acc: 0.9543, Sentiment Acc: 0.8535,\n",
      " Validation - Avg Loss: 0.1727, Sarcasm Val Acc: 0.9468, Sentiment Val Acc: 0.6958\n",
      "\n"
     ]
    },
    {
     "name": "stderr",
     "output_type": "stream",
     "text": [
      "Training: 100%|█████████████████████████████████████████████████████████████████| 186/186 [00:54<00:00,  3.39it/s]\n",
      "Validation: 100%|█████████████████████████████████████████████████████████████████| 33/33 [00:02<00:00, 12.24it/s]\n"
     ]
    },
    {
     "name": "stdout",
     "output_type": "stream",
     "text": [
      "Epoch 5,\n",
      " Training - Avg Loss: 0.2534, Sarcasm Acc: 0.9543, Sentiment Acc: 0.9073,\n",
      " Validation - Avg Loss: 0.1882, Sarcasm Val Acc: 0.9468, Sentiment Val Acc: 0.6977\n",
      "\n"
     ]
    },
    {
     "name": "stderr",
     "output_type": "stream",
     "text": [
      "Training: 100%|█████████████████████████████████████████████████████████████████| 186/186 [00:55<00:00,  3.37it/s]\n",
      "Validation: 100%|█████████████████████████████████████████████████████████████████| 33/33 [00:02<00:00, 12.23it/s]\n"
     ]
    },
    {
     "name": "stdout",
     "output_type": "stream",
     "text": [
      "Epoch 6,\n",
      " Training - Avg Loss: 0.1746, Sarcasm Acc: 0.9550, Sentiment Acc: 0.9439,\n",
      " Validation - Avg Loss: 0.2089, Sarcasm Val Acc: 0.9468, Sentiment Val Acc: 0.6920\n",
      "\n"
     ]
    },
    {
     "name": "stderr",
     "output_type": "stream",
     "text": [
      "Training: 100%|█████████████████████████████████████████████████████████████████| 186/186 [00:55<00:00,  3.38it/s]\n",
      "Validation: 100%|█████████████████████████████████████████████████████████████████| 33/33 [00:02<00:00, 12.35it/s]\n"
     ]
    },
    {
     "name": "stdout",
     "output_type": "stream",
     "text": [
      "Epoch 7,\n",
      " Training - Avg Loss: 0.1276, Sarcasm Acc: 0.9560, Sentiment Acc: 0.9627,\n",
      " Validation - Avg Loss: 0.2533, Sarcasm Val Acc: 0.9449, Sentiment Val Acc: 0.6711\n",
      "\n"
     ]
    },
    {
     "name": "stderr",
     "output_type": "stream",
     "text": [
      "Training: 100%|█████████████████████████████████████████████████████████████████| 186/186 [00:54<00:00,  3.40it/s]\n",
      "Validation: 100%|█████████████████████████████████████████████████████████████████| 33/33 [00:02<00:00, 12.38it/s]\n"
     ]
    },
    {
     "name": "stdout",
     "output_type": "stream",
     "text": [
      "Epoch 8,\n",
      " Training - Avg Loss: 0.1002, Sarcasm Acc: 0.9590, Sentiment Acc: 0.9721,\n",
      " Validation - Avg Loss: 0.2534, Sarcasm Val Acc: 0.9544, Sentiment Val Acc: 0.6958\n",
      "\n"
     ]
    },
    {
     "name": "stderr",
     "output_type": "stream",
     "text": [
      "Training: 100%|█████████████████████████████████████████████████████████████████| 186/186 [00:54<00:00,  3.41it/s]\n",
      "Validation: 100%|█████████████████████████████████████████████████████████████████| 33/33 [00:02<00:00, 12.39it/s]\n"
     ]
    },
    {
     "name": "stdout",
     "output_type": "stream",
     "text": [
      "Epoch 9,\n",
      " Training - Avg Loss: 0.0680, Sarcasm Acc: 0.9597, Sentiment Acc: 0.9862,\n",
      " Validation - Avg Loss: 0.2668, Sarcasm Val Acc: 0.9487, Sentiment Val Acc: 0.7129\n",
      "\n"
     ]
    },
    {
     "name": "stderr",
     "output_type": "stream",
     "text": [
      "Training: 100%|█████████████████████████████████████████████████████████████████| 186/186 [00:54<00:00,  3.39it/s]\n",
      "Validation: 100%|█████████████████████████████████████████████████████████████████| 33/33 [00:02<00:00, 12.30it/s]\n"
     ]
    },
    {
     "name": "stdout",
     "output_type": "stream",
     "text": [
      "Epoch 10,\n",
      " Training - Avg Loss: 0.0566, Sarcasm Acc: 0.9617, Sentiment Acc: 0.9889,\n",
      " Validation - Avg Loss: 0.2771, Sarcasm Val Acc: 0.9487, Sentiment Val Acc: 0.6920\n",
      "\n"
     ]
    },
    {
     "name": "stderr",
     "output_type": "stream",
     "text": [
      "Some weights of BertModel were not initialized from the model checkpoint at aubmindlab/bert-base-arabertv02-twitter and are newly initialized: ['bert.pooler.dense.bias', 'bert.pooler.dense.weight']\n",
      "You should probably TRAIN this model on a down-stream task to be able to use it for predictions and inference.\n"
     ]
    },
    {
     "name": "stdout",
     "output_type": "stream",
     "text": [
      "----------------------------------------------------------\n",
      "Training with w1:0.10000000000000014 and w2:0.8999999999999999\n",
      "\n"
     ]
    },
    {
     "name": "stderr",
     "output_type": "stream",
     "text": [
      "Training: 100%|█████████████████████████████████████████████████████████████████| 186/186 [00:54<00:00,  3.44it/s]\n",
      "Validation: 100%|█████████████████████████████████████████████████████████████████| 33/33 [00:02<00:00, 12.40it/s]\n"
     ]
    },
    {
     "name": "stdout",
     "output_type": "stream",
     "text": [
      "Epoch 1,\n",
      " Training - Avg Loss: 0.8132, Sarcasm Acc: 0.9516, Sentiment Acc: 0.5978,\n",
      " Validation - Avg Loss: 0.0917, Sarcasm Val Acc: 0.9468, Sentiment Val Acc: 0.6977\n",
      "\n"
     ]
    },
    {
     "name": "stderr",
     "output_type": "stream",
     "text": [
      "Training: 100%|█████████████████████████████████████████████████████████████████| 186/186 [00:53<00:00,  3.45it/s]\n",
      "Validation: 100%|█████████████████████████████████████████████████████████████████| 33/33 [00:02<00:00, 12.43it/s]\n"
     ]
    },
    {
     "name": "stdout",
     "output_type": "stream",
     "text": [
      "Epoch 2,\n",
      " Training - Avg Loss: 0.6158, Sarcasm Acc: 0.9543, Sentiment Acc: 0.7201,\n",
      " Validation - Avg Loss: 0.0845, Sarcasm Val Acc: 0.9468, Sentiment Val Acc: 0.7262\n",
      "\n"
     ]
    },
    {
     "name": "stderr",
     "output_type": "stream",
     "text": [
      "Training: 100%|█████████████████████████████████████████████████████████████████| 186/186 [00:53<00:00,  3.45it/s]\n",
      "Validation: 100%|█████████████████████████████████████████████████████████████████| 33/33 [00:02<00:00, 12.49it/s]\n"
     ]
    },
    {
     "name": "stdout",
     "output_type": "stream",
     "text": [
      "Epoch 3,\n",
      " Training - Avg Loss: 0.4956, Sarcasm Acc: 0.9543, Sentiment Acc: 0.7880,\n",
      " Validation - Avg Loss: 0.0848, Sarcasm Val Acc: 0.9468, Sentiment Val Acc: 0.7186\n",
      "\n"
     ]
    },
    {
     "name": "stderr",
     "output_type": "stream",
     "text": [
      "Training: 100%|█████████████████████████████████████████████████████████████████| 186/186 [00:54<00:00,  3.42it/s]\n",
      "Validation: 100%|█████████████████████████████████████████████████████████████████| 33/33 [00:02<00:00, 12.23it/s]\n"
     ]
    },
    {
     "name": "stdout",
     "output_type": "stream",
     "text": [
      "Epoch 4,\n",
      " Training - Avg Loss: 0.3753, Sarcasm Acc: 0.9543, Sentiment Acc: 0.8585,\n",
      " Validation - Avg Loss: 0.0884, Sarcasm Val Acc: 0.9468, Sentiment Val Acc: 0.7186\n",
      "\n"
     ]
    },
    {
     "name": "stderr",
     "output_type": "stream",
     "text": [
      "Training: 100%|█████████████████████████████████████████████████████████████████| 186/186 [00:54<00:00,  3.39it/s]\n",
      "Validation: 100%|█████████████████████████████████████████████████████████████████| 33/33 [00:02<00:00, 12.06it/s]\n"
     ]
    },
    {
     "name": "stdout",
     "output_type": "stream",
     "text": [
      "Epoch 5,\n",
      " Training - Avg Loss: 0.2712, Sarcasm Acc: 0.9543, Sentiment Acc: 0.9009,\n",
      " Validation - Avg Loss: 0.0993, Sarcasm Val Acc: 0.9468, Sentiment Val Acc: 0.7072\n",
      "\n"
     ]
    },
    {
     "name": "stderr",
     "output_type": "stream",
     "text": [
      "Training: 100%|█████████████████████████████████████████████████████████████████| 186/186 [00:54<00:00,  3.38it/s]\n",
      "Validation: 100%|█████████████████████████████████████████████████████████████████| 33/33 [00:02<00:00, 12.33it/s]\n"
     ]
    },
    {
     "name": "stdout",
     "output_type": "stream",
     "text": [
      "Epoch 6,\n",
      " Training - Avg Loss: 0.1745, Sarcasm Acc: 0.9543, Sentiment Acc: 0.9462,\n",
      " Validation - Avg Loss: 0.1171, Sarcasm Val Acc: 0.9468, Sentiment Val Acc: 0.6996\n",
      "\n"
     ]
    },
    {
     "name": "stderr",
     "output_type": "stream",
     "text": [
      "Training: 100%|█████████████████████████████████████████████████████████████████| 186/186 [00:54<00:00,  3.41it/s]\n",
      "Validation: 100%|█████████████████████████████████████████████████████████████████| 33/33 [00:02<00:00, 12.38it/s]\n"
     ]
    },
    {
     "name": "stdout",
     "output_type": "stream",
     "text": [
      "Epoch 7,\n",
      " Training - Avg Loss: 0.1242, Sarcasm Acc: 0.9543, Sentiment Acc: 0.9640,\n",
      " Validation - Avg Loss: 0.1229, Sarcasm Val Acc: 0.9468, Sentiment Val Acc: 0.6920\n",
      "\n"
     ]
    },
    {
     "name": "stderr",
     "output_type": "stream",
     "text": [
      "Training: 100%|█████████████████████████████████████████████████████████████████| 186/186 [00:54<00:00,  3.43it/s]\n",
      "Validation: 100%|█████████████████████████████████████████████████████████████████| 33/33 [00:02<00:00, 12.42it/s]\n"
     ]
    },
    {
     "name": "stdout",
     "output_type": "stream",
     "text": [
      "Epoch 8,\n",
      " Training - Avg Loss: 0.0774, Sarcasm Acc: 0.9543, Sentiment Acc: 0.9835,\n",
      " Validation - Avg Loss: 0.1341, Sarcasm Val Acc: 0.9468, Sentiment Val Acc: 0.6787\n",
      "\n"
     ]
    },
    {
     "name": "stderr",
     "output_type": "stream",
     "text": [
      "Training: 100%|█████████████████████████████████████████████████████████████████| 186/186 [00:54<00:00,  3.44it/s]\n",
      "Validation: 100%|█████████████████████████████████████████████████████████████████| 33/33 [00:02<00:00, 12.42it/s]\n"
     ]
    },
    {
     "name": "stdout",
     "output_type": "stream",
     "text": [
      "Epoch 9,\n",
      " Training - Avg Loss: 0.0611, Sarcasm Acc: 0.9546, Sentiment Acc: 0.9859,\n",
      " Validation - Avg Loss: 0.1494, Sarcasm Val Acc: 0.9468, Sentiment Val Acc: 0.6825\n",
      "\n"
     ]
    },
    {
     "name": "stderr",
     "output_type": "stream",
     "text": [
      "Training: 100%|█████████████████████████████████████████████████████████████████| 186/186 [00:54<00:00,  3.42it/s]\n",
      "Validation: 100%|█████████████████████████████████████████████████████████████████| 33/33 [00:02<00:00, 12.44it/s]\n"
     ]
    },
    {
     "name": "stdout",
     "output_type": "stream",
     "text": [
      "Epoch 10,\n",
      " Training - Avg Loss: 0.0476, Sarcasm Acc: 0.9560, Sentiment Acc: 0.9899,\n",
      " Validation - Avg Loss: 0.1511, Sarcasm Val Acc: 0.9468, Sentiment Val Acc: 0.6806\n",
      "\n"
     ]
    }
   ],
   "source": [
    "w1 = 0.9\n",
    "w2 = 0.1\n",
    "while w1 > 0.1:\n",
    "    device = torch.device(\"mps\")\n",
    "\n",
    "    encoder_model = AutoModel.from_pretrained(model_name)\n",
    "    multi_task_model = MultiTaskModel(encoder_model)\n",
    "\n",
    "    multi_task_model.to(device)\n",
    "    optimizer = AdamW(multi_task_model.parameters(), lr=1e-5)\n",
    "    num_epochs = 10\n",
    "    \n",
    "    print(\"----------------------------------------------------------\")\n",
    "    print(f\"Training with w1:{w1} and w2:{w2}\\n\")\n",
    "\n",
    "    for epoch in range(num_epochs):\n",
    "        multi_task_model.train()\n",
    "        total_loss = 0\n",
    "        correct_sarcasm = 0\n",
    "        correct_sentiment = 0\n",
    "        total_samples = 0\n",
    "\n",
    "        for batch in tqdm(train_loader, desc=\"Training\"):\n",
    "            input_ids, attention_mask, sarcasm_labels, sentiment_labels = batch\n",
    "            input_ids = input_ids.to(device)\n",
    "            attention_mask = attention_mask.to(device)\n",
    "            sarcasm_labels = sarcasm_labels.to(device)\n",
    "            sentiment_labels = sentiment_labels.to(device)\n",
    "            \n",
    "            print(input_ids)\n",
    "\n",
    "            optimizer.zero_grad()\n",
    "            sarcasm_logits, sentiment_logits = multi_task_model(input_ids, attention_mask)\n",
    "            sarcasm_loss = nn.CrossEntropyLoss()(sarcasm_logits, sarcasm_labels)\n",
    "            sentiment_loss = nn.CrossEntropyLoss()(sentiment_logits, sentiment_labels)\n",
    "            loss = w1*sarcasm_loss + w2*sentiment_loss\n",
    "            loss.backward()\n",
    "            optimizer.step()\n",
    "\n",
    "            total_loss += loss.item()\n",
    "            _, sarcasm_predicted = torch.max(sarcasm_logits, 1)\n",
    "            _, sentiment_predicted = torch.max(sentiment_logits, 1)\n",
    "            correct_sarcasm += (sarcasm_predicted == sarcasm_labels).sum().item()\n",
    "            correct_sentiment += (sentiment_predicted == sentiment_labels).sum().item()\n",
    "            total_samples += input_ids.size(0)\n",
    "\n",
    "        avg_loss = total_loss / len(train_loader)\n",
    "        sarcasm_accuracy = correct_sarcasm / total_samples\n",
    "        sentiment_accuracy = correct_sentiment / total_samples\n",
    "\n",
    "        multi_task_model.eval()\n",
    "        with torch.no_grad():\n",
    "            total_val_loss = 0\n",
    "            val_correct_sarcasm = 0\n",
    "            val_correct_sentiment = 0\n",
    "            total_val_samples = 0\n",
    "\n",
    "            for val_batch in tqdm(val_loader, desc=\"Validation\"):\n",
    "                val_input_ids, val_attention_mask, val_sarcasm_labels, val_sentiment_labels = val_batch\n",
    "                val_input_ids = val_input_ids.to(device)\n",
    "                val_attention_mask = val_attention_mask.to(device)\n",
    "                val_sarcasm_labels = val_sarcasm_labels.to(device)\n",
    "                val_sentiment_labels = val_sentiment_labels.to(device)\n",
    "\n",
    "                val_sarcasm_logits, val_sentiment_logits = multi_task_model(val_input_ids, val_attention_mask)\n",
    "                val_sarcasm_loss = nn.CrossEntropyLoss()(val_sarcasm_logits, val_sarcasm_labels)\n",
    "                val_sentiment_loss = nn.CrossEntropyLoss()(val_sentiment_logits, val_sentiment_labels)\n",
    "                val_loss = w1*val_sarcasm_loss + w1*val_sentiment_loss\n",
    "\n",
    "                total_val_loss += val_loss.item()\n",
    "                _, val_sarcasm_predicted = torch.max(val_sarcasm_logits, 1)\n",
    "                _, val_sentiment_predicted = torch.max(val_sentiment_logits, 1)\n",
    "                val_correct_sarcasm += (val_sarcasm_predicted == val_sarcasm_labels).sum().item()\n",
    "                val_correct_sentiment += (val_sentiment_predicted == val_sentiment_labels).sum().item()\n",
    "                total_val_samples += val_input_ids.size(0)\n",
    "\n",
    "            avg_val_loss = total_val_loss / len(val_loader)\n",
    "            val_sarcasm_accuracy = val_correct_sarcasm / total_val_samples\n",
    "            val_sentiment_accuracy = val_correct_sentiment / total_val_samples\n",
    "\n",
    "        print(f\"Epoch {epoch+1},\\n Training - Avg Loss: {avg_loss:.4f}, Sarcasm Acc: {sarcasm_accuracy:.4f}, Sentiment Acc: {sentiment_accuracy:.4f},\\n Validation - Avg Loss: {avg_val_loss:.4f}, Sarcasm Val Acc: {val_sarcasm_accuracy:.4f}, Sentiment Val Acc: {val_sentiment_accuracy:.4f}\", end=\"\\n\\n\")\n",
    "    \n",
    "    formatted_w1 = f'{w1:.1f}'\n",
    "    formatted_w2 = f'{w2:.1f}'\n",
    "    torch.save(multi_task_model.base_model.state_dict(), os.path.join(MODEL_PATH, f'BERT_sar_sent_{formatted_w1}_{formatted_w2}.pth'))\n",
    "    w1-=0.1\n",
    "    w2+=0.1"
   ]
  }
 ],
 "metadata": {
  "kernelspec": {
   "display_name": "Python 3 (ipykernel)",
   "language": "python",
   "name": "python3"
  },
  "language_info": {
   "codemirror_mode": {
    "name": "ipython",
    "version": 3
   },
   "file_extension": ".py",
   "mimetype": "text/x-python",
   "name": "python",
   "nbconvert_exporter": "python",
   "pygments_lexer": "ipython3",
   "version": "3.11.5"
  }
 },
 "nbformat": 4,
 "nbformat_minor": 5
}
