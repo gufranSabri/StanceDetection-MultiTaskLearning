{
 "cells": [
  {
   "cell_type": "code",
   "execution_count": 1,
   "id": "773a046b-2c05-4c10-b3f6-1eae1dc94e35",
   "metadata": {
    "tags": []
   },
   "outputs": [],
   "source": [
    "import pandas as pd\n",
    "from pprint import pprint\n",
    "import os"
   ]
  },
  {
   "cell_type": "code",
   "execution_count": 2,
   "id": "b132a4f6-2fcf-42bd-901c-7fa93d7b1e6b",
   "metadata": {
    "tags": []
   },
   "outputs": [],
   "source": [
    "DATA_PATH = \"../data/\""
   ]
  },
  {
   "cell_type": "markdown",
   "id": "bdcdf290-38fb-4195-8202-85086d94f443",
   "metadata": {},
   "source": [
    "## EDA"
   ]
  },
  {
   "cell_type": "code",
   "execution_count": 3,
   "id": "e3b268f2-2830-41f5-a91b-5a3cfed40df7",
   "metadata": {
    "tags": []
   },
   "outputs": [
    {
     "data": {
      "text/html": [
       "<div>\n",
       "<style scoped>\n",
       "    .dataframe tbody tr th:only-of-type {\n",
       "        vertical-align: middle;\n",
       "    }\n",
       "\n",
       "    .dataframe tbody tr th {\n",
       "        vertical-align: top;\n",
       "    }\n",
       "\n",
       "    .dataframe thead th {\n",
       "        text-align: right;\n",
       "    }\n",
       "</style>\n",
       "<table border=\"1\" class=\"dataframe\">\n",
       "  <thead>\n",
       "    <tr style=\"text-align: right;\">\n",
       "      <th></th>\n",
       "      <th>ID</th>\n",
       "      <th>text</th>\n",
       "      <th>target</th>\n",
       "      <th>stance</th>\n",
       "      <th>stance:confidence</th>\n",
       "      <th>against_reason</th>\n",
       "      <th>favor_reason</th>\n",
       "      <th>none_reason</th>\n",
       "      <th>sarcasm</th>\n",
       "      <th>sarcasm:confidence</th>\n",
       "      <th>sentiment</th>\n",
       "      <th>sentiment:confidence</th>\n",
       "      <th>datetime</th>\n",
       "      <th>Date</th>\n",
       "    </tr>\n",
       "  </thead>\n",
       "  <tbody>\n",
       "    <tr>\n",
       "      <th>0</th>\n",
       "      <td>1</td>\n",
       "      <td>عشان يلمع صورته ويعنني تمكين المرأة ويصير ترن...</td>\n",
       "      <td>Women empowerment</td>\n",
       "      <td>Against</td>\n",
       "      <td>0.5116</td>\n",
       "      <td>A_Explicit</td>\n",
       "      <td>NaN</td>\n",
       "      <td>NaN</td>\n",
       "      <td>No</td>\n",
       "      <td>1.0000</td>\n",
       "      <td>Negative</td>\n",
       "      <td>1.0000</td>\n",
       "      <td>2021-01-16 03:19:19+00:00</td>\n",
       "      <td>16/01/2021</td>\n",
       "    </tr>\n",
       "    <tr>\n",
       "      <th>1</th>\n",
       "      <td>3</td>\n",
       "      <td>روح حلل محد يم تطعيم كورونا شف الحرم البارح م...</td>\n",
       "      <td>Covid Vaccine</td>\n",
       "      <td>NaN</td>\n",
       "      <td>0.4003</td>\n",
       "      <td>NaN</td>\n",
       "      <td>NaN</td>\n",
       "      <td>Not clear</td>\n",
       "      <td>Yes</td>\n",
       "      <td>0.5990</td>\n",
       "      <td>Neutral</td>\n",
       "      <td>0.6180</td>\n",
       "      <td>2022-04-28 11:12:56+00:00</td>\n",
       "      <td>28/04/2022</td>\n",
       "    </tr>\n",
       "    <tr>\n",
       "      <th>2</th>\n",
       "      <td>4</td>\n",
       "      <td>هذا ما يُعرّف بـ'فوبيا المرأة المُتمكنة' آفة ف...</td>\n",
       "      <td>Women empowerment</td>\n",
       "      <td>Favor</td>\n",
       "      <td>0.8171</td>\n",
       "      <td>NaN</td>\n",
       "      <td>F_Explicit</td>\n",
       "      <td>NaN</td>\n",
       "      <td>Yes</td>\n",
       "      <td>0.8145</td>\n",
       "      <td>Negative</td>\n",
       "      <td>0.8251</td>\n",
       "      <td>2022-04-02 07:45:42+00:00</td>\n",
       "      <td>02/04/2022</td>\n",
       "    </tr>\n",
       "    <tr>\n",
       "      <th>3</th>\n",
       "      <td>6</td>\n",
       "      <td>#LEAP22  مؤتمر يجمع اشهر وابرز المؤثرين في الم...</td>\n",
       "      <td>Digital Transformation</td>\n",
       "      <td>Favor</td>\n",
       "      <td>1.0000</td>\n",
       "      <td>NaN</td>\n",
       "      <td>F_Explicit</td>\n",
       "      <td>NaN</td>\n",
       "      <td>No</td>\n",
       "      <td>1.0000</td>\n",
       "      <td>Positive</td>\n",
       "      <td>0.7531</td>\n",
       "      <td>2022-02-02 18:24:09+00:00</td>\n",
       "      <td>02/02/2022</td>\n",
       "    </tr>\n",
       "    <tr>\n",
       "      <th>4</th>\n",
       "      <td>7</td>\n",
       "      <td>خصوصية البيانات وحمايتها في المنظمة مطلب ولكن ...</td>\n",
       "      <td>Digital Transformation</td>\n",
       "      <td>Favor</td>\n",
       "      <td>0.7559</td>\n",
       "      <td>NaN</td>\n",
       "      <td>F_Explicit</td>\n",
       "      <td>NaN</td>\n",
       "      <td>No</td>\n",
       "      <td>1.0000</td>\n",
       "      <td>Neutral</td>\n",
       "      <td>0.8116</td>\n",
       "      <td>2022-03-27 10:36:04+00:00</td>\n",
       "      <td>27/03/2022</td>\n",
       "    </tr>\n",
       "  </tbody>\n",
       "</table>\n",
       "</div>"
      ],
      "text/plain": [
       "   ID                                               text  \\\n",
       "0   1   عشان يلمع صورته ويعنني تمكين المرأة ويصير ترن...   \n",
       "1   3   روح حلل محد يم تطعيم كورونا شف الحرم البارح م...   \n",
       "2   4  هذا ما يُعرّف بـ'فوبيا المرأة المُتمكنة' آفة ف...   \n",
       "3   6  #LEAP22  مؤتمر يجمع اشهر وابرز المؤثرين في الم...   \n",
       "4   7  خصوصية البيانات وحمايتها في المنظمة مطلب ولكن ...   \n",
       "\n",
       "                   target   stance  stance:confidence against_reason  \\\n",
       "0       Women empowerment  Against             0.5116     A_Explicit   \n",
       "1           Covid Vaccine      NaN             0.4003            NaN   \n",
       "2       Women empowerment    Favor             0.8171            NaN   \n",
       "3  Digital Transformation    Favor             1.0000            NaN   \n",
       "4  Digital Transformation    Favor             0.7559            NaN   \n",
       "\n",
       "  favor_reason none_reason sarcasm  sarcasm:confidence sentiment  \\\n",
       "0          NaN         NaN      No              1.0000  Negative   \n",
       "1          NaN   Not clear     Yes              0.5990   Neutral   \n",
       "2   F_Explicit         NaN     Yes              0.8145  Negative   \n",
       "3   F_Explicit         NaN      No              1.0000  Positive   \n",
       "4   F_Explicit         NaN      No              1.0000   Neutral   \n",
       "\n",
       "   sentiment:confidence                   datetime        Date  \n",
       "0                1.0000  2021-01-16 03:19:19+00:00  16/01/2021  \n",
       "1                0.6180  2022-04-28 11:12:56+00:00  28/04/2022  \n",
       "2                0.8251  2022-04-02 07:45:42+00:00  02/04/2022  \n",
       "3                0.7531  2022-02-02 18:24:09+00:00  02/02/2022  \n",
       "4                0.8116  2022-03-27 10:36:04+00:00  27/03/2022  "
      ]
     },
     "execution_count": 3,
     "metadata": {},
     "output_type": "execute_result"
    }
   ],
   "source": [
    "df = pd.read_csv(os.path.join(DATA_PATH, \"Mawqif_AllTargets_Train.csv\"))\n",
    "df.head()"
   ]
  },
  {
   "cell_type": "code",
   "execution_count": 4,
   "id": "84ec161b-9f8d-45b2-a45e-43746b9bab91",
   "metadata": {
    "tags": []
   },
   "outputs": [
    {
     "name": "stdout",
     "output_type": "stream",
     "text": [
      "Rows, columns: (3502, 14)\n"
     ]
    }
   ],
   "source": [
    "print(\"Rows, columns:\", df.shape)"
   ]
  },
  {
   "cell_type": "code",
   "execution_count": 5,
   "id": "54b49708-b573-4ee3-b7a4-df736b3bc985",
   "metadata": {
    "tags": []
   },
   "outputs": [
    {
     "data": {
      "text/plain": [
       "['ID',\n",
       " 'text',\n",
       " 'target',\n",
       " 'stance',\n",
       " 'stance:confidence',\n",
       " 'against_reason',\n",
       " 'favor_reason',\n",
       " 'none_reason',\n",
       " 'sarcasm',\n",
       " 'sarcasm:confidence',\n",
       " 'sentiment',\n",
       " 'sentiment:confidence',\n",
       " 'datetime',\n",
       " 'Date']"
      ]
     },
     "execution_count": 5,
     "metadata": {},
     "output_type": "execute_result"
    }
   ],
   "source": [
    "list(df.columns)"
   ]
  },
  {
   "cell_type": "code",
   "execution_count": 6,
   "id": "5a91a8ae-4bb4-472e-9c72-23f87993cb9d",
   "metadata": {
    "tags": []
   },
   "outputs": [
    {
     "data": {
      "text/html": [
       "<div>\n",
       "<style scoped>\n",
       "    .dataframe tbody tr th:only-of-type {\n",
       "        vertical-align: middle;\n",
       "    }\n",
       "\n",
       "    .dataframe tbody tr th {\n",
       "        vertical-align: top;\n",
       "    }\n",
       "\n",
       "    .dataframe thead th {\n",
       "        text-align: right;\n",
       "    }\n",
       "</style>\n",
       "<table border=\"1\" class=\"dataframe\">\n",
       "  <thead>\n",
       "    <tr style=\"text-align: right;\">\n",
       "      <th></th>\n",
       "      <th>text</th>\n",
       "      <th>target</th>\n",
       "      <th>stance</th>\n",
       "      <th>stance:confidence</th>\n",
       "      <th>against_reason</th>\n",
       "      <th>favor_reason</th>\n",
       "      <th>none_reason</th>\n",
       "      <th>sarcasm</th>\n",
       "      <th>sarcasm:confidence</th>\n",
       "      <th>sentiment</th>\n",
       "      <th>sentiment:confidence</th>\n",
       "    </tr>\n",
       "  </thead>\n",
       "  <tbody>\n",
       "    <tr>\n",
       "      <th>0</th>\n",
       "      <td>عشان يلمع صورته ويعنني تمكين المرأة ويصير ترن...</td>\n",
       "      <td>Women empowerment</td>\n",
       "      <td>Against</td>\n",
       "      <td>0.5116</td>\n",
       "      <td>A_Explicit</td>\n",
       "      <td>NaN</td>\n",
       "      <td>NaN</td>\n",
       "      <td>No</td>\n",
       "      <td>1.0000</td>\n",
       "      <td>Negative</td>\n",
       "      <td>1.0000</td>\n",
       "    </tr>\n",
       "    <tr>\n",
       "      <th>1</th>\n",
       "      <td>روح حلل محد يم تطعيم كورونا شف الحرم البارح م...</td>\n",
       "      <td>Covid Vaccine</td>\n",
       "      <td>NaN</td>\n",
       "      <td>0.4003</td>\n",
       "      <td>NaN</td>\n",
       "      <td>NaN</td>\n",
       "      <td>Not clear</td>\n",
       "      <td>Yes</td>\n",
       "      <td>0.5990</td>\n",
       "      <td>Neutral</td>\n",
       "      <td>0.6180</td>\n",
       "    </tr>\n",
       "    <tr>\n",
       "      <th>2</th>\n",
       "      <td>هذا ما يُعرّف بـ'فوبيا المرأة المُتمكنة' آفة ف...</td>\n",
       "      <td>Women empowerment</td>\n",
       "      <td>Favor</td>\n",
       "      <td>0.8171</td>\n",
       "      <td>NaN</td>\n",
       "      <td>F_Explicit</td>\n",
       "      <td>NaN</td>\n",
       "      <td>Yes</td>\n",
       "      <td>0.8145</td>\n",
       "      <td>Negative</td>\n",
       "      <td>0.8251</td>\n",
       "    </tr>\n",
       "    <tr>\n",
       "      <th>3</th>\n",
       "      <td>#LEAP22  مؤتمر يجمع اشهر وابرز المؤثرين في الم...</td>\n",
       "      <td>Digital Transformation</td>\n",
       "      <td>Favor</td>\n",
       "      <td>1.0000</td>\n",
       "      <td>NaN</td>\n",
       "      <td>F_Explicit</td>\n",
       "      <td>NaN</td>\n",
       "      <td>No</td>\n",
       "      <td>1.0000</td>\n",
       "      <td>Positive</td>\n",
       "      <td>0.7531</td>\n",
       "    </tr>\n",
       "    <tr>\n",
       "      <th>4</th>\n",
       "      <td>خصوصية البيانات وحمايتها في المنظمة مطلب ولكن ...</td>\n",
       "      <td>Digital Transformation</td>\n",
       "      <td>Favor</td>\n",
       "      <td>0.7559</td>\n",
       "      <td>NaN</td>\n",
       "      <td>F_Explicit</td>\n",
       "      <td>NaN</td>\n",
       "      <td>No</td>\n",
       "      <td>1.0000</td>\n",
       "      <td>Neutral</td>\n",
       "      <td>0.8116</td>\n",
       "    </tr>\n",
       "  </tbody>\n",
       "</table>\n",
       "</div>"
      ],
      "text/plain": [
       "                                                text                  target  \\\n",
       "0   عشان يلمع صورته ويعنني تمكين المرأة ويصير ترن...       Women empowerment   \n",
       "1   روح حلل محد يم تطعيم كورونا شف الحرم البارح م...           Covid Vaccine   \n",
       "2  هذا ما يُعرّف بـ'فوبيا المرأة المُتمكنة' آفة ف...       Women empowerment   \n",
       "3  #LEAP22  مؤتمر يجمع اشهر وابرز المؤثرين في الم...  Digital Transformation   \n",
       "4  خصوصية البيانات وحمايتها في المنظمة مطلب ولكن ...  Digital Transformation   \n",
       "\n",
       "    stance  stance:confidence against_reason favor_reason none_reason sarcasm  \\\n",
       "0  Against             0.5116     A_Explicit          NaN         NaN      No   \n",
       "1      NaN             0.4003            NaN          NaN   Not clear     Yes   \n",
       "2    Favor             0.8171            NaN   F_Explicit         NaN     Yes   \n",
       "3    Favor             1.0000            NaN   F_Explicit         NaN      No   \n",
       "4    Favor             0.7559            NaN   F_Explicit         NaN      No   \n",
       "\n",
       "   sarcasm:confidence sentiment  sentiment:confidence  \n",
       "0              1.0000  Negative                1.0000  \n",
       "1              0.5990   Neutral                0.6180  \n",
       "2              0.8145  Negative                0.8251  \n",
       "3              1.0000  Positive                0.7531  \n",
       "4              1.0000   Neutral                0.8116  "
      ]
     },
     "execution_count": 6,
     "metadata": {},
     "output_type": "execute_result"
    }
   ],
   "source": [
    "df.drop([\"ID\", \"datetime\", \"Date\"], axis=1, inplace=True)\n",
    "df.head()"
   ]
  },
  {
   "cell_type": "code",
   "execution_count": 7,
   "id": "a7e91cbc-b9a3-459d-80ee-7096f12ac786",
   "metadata": {
    "tags": []
   },
   "outputs": [
    {
     "data": {
      "text/plain": [
       "target\n",
       "Women empowerment         1190\n",
       "Covid Vaccine             1167\n",
       "Digital Transformation    1145\n",
       "Name: count, dtype: int64"
      ]
     },
     "execution_count": 7,
     "metadata": {},
     "output_type": "execute_result"
    }
   ],
   "source": [
    "df.target.value_counts()"
   ]
  },
  {
   "cell_type": "code",
   "execution_count": 8,
   "id": "1fc16d43-0ed2-4729-a349-76598c989163",
   "metadata": {
    "tags": []
   },
   "outputs": [
    {
     "name": "stdout",
     "output_type": "stream",
     "text": [
      "Favor Reasons: [nan, 'F_Explicit', 'F_Implicit']\n",
      "Against Reasons: ['A_Explicit', nan, 'A_Implicit']\n",
      "Neutral Reasons: [nan, 'Not clear', 'Not Related']\n"
     ]
    }
   ],
   "source": [
    "print(\"Favor Reasons:\",list(df[\"favor_reason\"].unique()))\n",
    "print(\"Against Reasons:\",list(df[\"against_reason\"].unique()))\n",
    "print(\"Neutral Reasons:\",list(df[\"none_reason\"].unique()))"
   ]
  },
  {
   "cell_type": "markdown",
   "id": "ad81b5c6-1ad7-490e-95cd-60fcd4fe6c93",
   "metadata": {},
   "source": [
    "<p style='color:red'>Note: Reason based preprocessing possible?</p>"
   ]
  },
  {
   "cell_type": "code",
   "execution_count": 9,
   "id": "185848e7-a9d9-466b-b8fe-58b30d99f234",
   "metadata": {
    "tags": []
   },
   "outputs": [],
   "source": [
    "# df = df.dropna(subset=[\"stance\"])"
   ]
  },
  {
   "cell_type": "code",
   "execution_count": 10,
   "id": "47752a04-d8b3-4687-9676-425fe204b1c9",
   "metadata": {
    "tags": []
   },
   "outputs": [
    {
     "name": "stdout",
     "output_type": "stream",
     "text": [
      "<class 'pandas.core.frame.DataFrame'>\n",
      "RangeIndex: 3502 entries, 0 to 3501\n",
      "Data columns (total 11 columns):\n",
      " #   Column                Non-Null Count  Dtype  \n",
      "---  ------                --------------  -----  \n",
      " 0   text                  3502 non-null   object \n",
      " 1   target                3502 non-null   object \n",
      " 2   stance                3169 non-null   object \n",
      " 3   stance:confidence     3502 non-null   float64\n",
      " 4   against_reason        1004 non-null   object \n",
      " 5   favor_reason          2106 non-null   object \n",
      " 6   none_reason           324 non-null    object \n",
      " 7   sarcasm               3502 non-null   object \n",
      " 8   sarcasm:confidence    3502 non-null   float64\n",
      " 9   sentiment             3502 non-null   object \n",
      " 10  sentiment:confidence  3502 non-null   float64\n",
      "dtypes: float64(3), object(8)\n",
      "memory usage: 301.1+ KB\n"
     ]
    }
   ],
   "source": [
    "df.info()"
   ]
  },
  {
   "cell_type": "markdown",
   "id": "f5d952c6-b39b-4c89-ab25-3d262fbe49b3",
   "metadata": {},
   "source": [
    "<p style='color:red'>Note: Reason based preprocessing not possible; not enough data</p>"
   ]
  },
  {
   "cell_type": "code",
   "execution_count": 11,
   "id": "9faddce3-8ca8-4bd9-bade-6ca1dd107ac4",
   "metadata": {
    "tags": []
   },
   "outputs": [],
   "source": [
    "df.drop([\"favor_reason\", \"against_reason\", \"none_reason\"], axis=1, inplace=True)"
   ]
  },
  {
   "cell_type": "code",
   "execution_count": 12,
   "id": "0808621d-ef7c-41aa-85b6-93d3219b8492",
   "metadata": {
    "tags": []
   },
   "outputs": [
    {
     "data": {
      "text/html": [
       "<div>\n",
       "<style scoped>\n",
       "    .dataframe tbody tr th:only-of-type {\n",
       "        vertical-align: middle;\n",
       "    }\n",
       "\n",
       "    .dataframe tbody tr th {\n",
       "        vertical-align: top;\n",
       "    }\n",
       "\n",
       "    .dataframe thead th {\n",
       "        text-align: right;\n",
       "    }\n",
       "</style>\n",
       "<table border=\"1\" class=\"dataframe\">\n",
       "  <thead>\n",
       "    <tr style=\"text-align: right;\">\n",
       "      <th></th>\n",
       "      <th>stance:confidence</th>\n",
       "      <th>sarcasm:confidence</th>\n",
       "      <th>sentiment:confidence</th>\n",
       "    </tr>\n",
       "  </thead>\n",
       "  <tbody>\n",
       "    <tr>\n",
       "      <th>count</th>\n",
       "      <td>3502.000000</td>\n",
       "      <td>3502.000000</td>\n",
       "      <td>3502.000000</td>\n",
       "    </tr>\n",
       "    <tr>\n",
       "      <th>mean</th>\n",
       "      <td>0.882457</td>\n",
       "      <td>0.963417</td>\n",
       "      <td>0.816219</td>\n",
       "    </tr>\n",
       "    <tr>\n",
       "      <th>std</th>\n",
       "      <td>0.174006</td>\n",
       "      <td>0.102643</td>\n",
       "      <td>0.185415</td>\n",
       "    </tr>\n",
       "    <tr>\n",
       "      <th>min</th>\n",
       "      <td>0.353100</td>\n",
       "      <td>0.502100</td>\n",
       "      <td>0.337000</td>\n",
       "    </tr>\n",
       "    <tr>\n",
       "      <th>25%</th>\n",
       "      <td>0.748725</td>\n",
       "      <td>1.000000</td>\n",
       "      <td>0.650900</td>\n",
       "    </tr>\n",
       "    <tr>\n",
       "      <th>50%</th>\n",
       "      <td>1.000000</td>\n",
       "      <td>1.000000</td>\n",
       "      <td>0.792000</td>\n",
       "    </tr>\n",
       "    <tr>\n",
       "      <th>75%</th>\n",
       "      <td>1.000000</td>\n",
       "      <td>1.000000</td>\n",
       "      <td>1.000000</td>\n",
       "    </tr>\n",
       "    <tr>\n",
       "      <th>max</th>\n",
       "      <td>1.000000</td>\n",
       "      <td>1.000000</td>\n",
       "      <td>1.000000</td>\n",
       "    </tr>\n",
       "  </tbody>\n",
       "</table>\n",
       "</div>"
      ],
      "text/plain": [
       "       stance:confidence  sarcasm:confidence  sentiment:confidence\n",
       "count        3502.000000         3502.000000           3502.000000\n",
       "mean            0.882457            0.963417              0.816219\n",
       "std             0.174006            0.102643              0.185415\n",
       "min             0.353100            0.502100              0.337000\n",
       "25%             0.748725            1.000000              0.650900\n",
       "50%             1.000000            1.000000              0.792000\n",
       "75%             1.000000            1.000000              1.000000\n",
       "max             1.000000            1.000000              1.000000"
      ]
     },
     "execution_count": 12,
     "metadata": {},
     "output_type": "execute_result"
    }
   ],
   "source": [
    "df_confidence = df[[\"stance:confidence\",\"sarcasm:confidence\",\"sentiment:confidence\"]]\n",
    "df_confidence.describe()"
   ]
  },
  {
   "cell_type": "markdown",
   "id": "cfd3b201-a8d3-45f7-84bd-a8b02bc6fccc",
   "metadata": {},
   "source": [
    "<p style='color:red'>Note: Confidence as a feature?</p>"
   ]
  },
  {
   "cell_type": "code",
   "execution_count": 13,
   "id": "53b45ee0-f0d2-46aa-a026-2e64a9ca2166",
   "metadata": {
    "tags": []
   },
   "outputs": [],
   "source": [
    "#reorder columns\n",
    "df = df[[\"target\", \"text\", \"stance\", \"stance:confidence\", \"sarcasm\", \"sarcasm:confidence\", \"sentiment\", \"sentiment:confidence\"]]"
   ]
  },
  {
   "cell_type": "code",
   "execution_count": 14,
   "id": "f3c63b20-d3b6-49ef-9f83-d43e4777d819",
   "metadata": {
    "tags": []
   },
   "outputs": [],
   "source": [
    "new_column_names = {\n",
    "    'stance:confidence': 'stance_confidence', \n",
    "    'sarcasm:confidence': 'sarcasm_confidence', \n",
    "    'sentiment:confidence': 'sentiment_confidence'                   \n",
    "}\n",
    "df = df.rename(columns=new_column_names)"
   ]
  },
  {
   "cell_type": "code",
   "execution_count": 15,
   "id": "c6a311d7-1fe9-4aea-863b-6087b712fae2",
   "metadata": {
    "tags": []
   },
   "outputs": [
    {
     "data": {
      "text/html": [
       "<div>\n",
       "<style scoped>\n",
       "    .dataframe tbody tr th:only-of-type {\n",
       "        vertical-align: middle;\n",
       "    }\n",
       "\n",
       "    .dataframe tbody tr th {\n",
       "        vertical-align: top;\n",
       "    }\n",
       "\n",
       "    .dataframe thead th {\n",
       "        text-align: right;\n",
       "    }\n",
       "</style>\n",
       "<table border=\"1\" class=\"dataframe\">\n",
       "  <thead>\n",
       "    <tr style=\"text-align: right;\">\n",
       "      <th></th>\n",
       "      <th>target</th>\n",
       "      <th>text</th>\n",
       "      <th>stance</th>\n",
       "      <th>stance_confidence</th>\n",
       "      <th>sarcasm</th>\n",
       "      <th>sarcasm_confidence</th>\n",
       "      <th>sentiment</th>\n",
       "      <th>sentiment_confidence</th>\n",
       "    </tr>\n",
       "  </thead>\n",
       "  <tbody>\n",
       "    <tr>\n",
       "      <th>0</th>\n",
       "      <td>Women empowerment</td>\n",
       "      <td>عشان يلمع صورته ويعنني تمكين المرأة ويصير ترن...</td>\n",
       "      <td>Against</td>\n",
       "      <td>0.5116</td>\n",
       "      <td>No</td>\n",
       "      <td>1.0000</td>\n",
       "      <td>Negative</td>\n",
       "      <td>1.0000</td>\n",
       "    </tr>\n",
       "    <tr>\n",
       "      <th>1</th>\n",
       "      <td>Covid Vaccine</td>\n",
       "      <td>روح حلل محد يم تطعيم كورونا شف الحرم البارح م...</td>\n",
       "      <td>NaN</td>\n",
       "      <td>0.4003</td>\n",
       "      <td>Yes</td>\n",
       "      <td>0.5990</td>\n",
       "      <td>Neutral</td>\n",
       "      <td>0.6180</td>\n",
       "    </tr>\n",
       "    <tr>\n",
       "      <th>2</th>\n",
       "      <td>Women empowerment</td>\n",
       "      <td>هذا ما يُعرّف بـ'فوبيا المرأة المُتمكنة' آفة ف...</td>\n",
       "      <td>Favor</td>\n",
       "      <td>0.8171</td>\n",
       "      <td>Yes</td>\n",
       "      <td>0.8145</td>\n",
       "      <td>Negative</td>\n",
       "      <td>0.8251</td>\n",
       "    </tr>\n",
       "    <tr>\n",
       "      <th>3</th>\n",
       "      <td>Digital Transformation</td>\n",
       "      <td>#LEAP22  مؤتمر يجمع اشهر وابرز المؤثرين في الم...</td>\n",
       "      <td>Favor</td>\n",
       "      <td>1.0000</td>\n",
       "      <td>No</td>\n",
       "      <td>1.0000</td>\n",
       "      <td>Positive</td>\n",
       "      <td>0.7531</td>\n",
       "    </tr>\n",
       "    <tr>\n",
       "      <th>4</th>\n",
       "      <td>Digital Transformation</td>\n",
       "      <td>خصوصية البيانات وحمايتها في المنظمة مطلب ولكن ...</td>\n",
       "      <td>Favor</td>\n",
       "      <td>0.7559</td>\n",
       "      <td>No</td>\n",
       "      <td>1.0000</td>\n",
       "      <td>Neutral</td>\n",
       "      <td>0.8116</td>\n",
       "    </tr>\n",
       "  </tbody>\n",
       "</table>\n",
       "</div>"
      ],
      "text/plain": [
       "                   target                                               text  \\\n",
       "0       Women empowerment   عشان يلمع صورته ويعنني تمكين المرأة ويصير ترن...   \n",
       "1           Covid Vaccine   روح حلل محد يم تطعيم كورونا شف الحرم البارح م...   \n",
       "2       Women empowerment  هذا ما يُعرّف بـ'فوبيا المرأة المُتمكنة' آفة ف...   \n",
       "3  Digital Transformation  #LEAP22  مؤتمر يجمع اشهر وابرز المؤثرين في الم...   \n",
       "4  Digital Transformation  خصوصية البيانات وحمايتها في المنظمة مطلب ولكن ...   \n",
       "\n",
       "    stance  stance_confidence sarcasm  sarcasm_confidence sentiment  \\\n",
       "0  Against             0.5116      No              1.0000  Negative   \n",
       "1      NaN             0.4003     Yes              0.5990   Neutral   \n",
       "2    Favor             0.8171     Yes              0.8145  Negative   \n",
       "3    Favor             1.0000      No              1.0000  Positive   \n",
       "4    Favor             0.7559      No              1.0000   Neutral   \n",
       "\n",
       "   sentiment_confidence  \n",
       "0                1.0000  \n",
       "1                0.6180  \n",
       "2                0.8251  \n",
       "3                0.7531  \n",
       "4                0.8116  "
      ]
     },
     "execution_count": 15,
     "metadata": {},
     "output_type": "execute_result"
    }
   ],
   "source": [
    "df.head()"
   ]
  },
  {
   "cell_type": "code",
   "execution_count": 16,
   "id": "a3a074af-7a35-4b08-a598-b6bade2cde5c",
   "metadata": {
    "tags": []
   },
   "outputs": [],
   "source": [
    "import emoji\n",
    "\n",
    "def contains_emoji(text):\n",
    "    demojized_text = emoji.demojize(text)\n",
    "    return demojized_text != text"
   ]
  },
  {
   "cell_type": "code",
   "execution_count": 17,
   "id": "568ecad9-b49d-4b52-81bd-e2079affbd97",
   "metadata": {
    "tags": []
   },
   "outputs": [
    {
     "data": {
      "text/plain": [
       "(3502, 8)"
      ]
     },
     "execution_count": 17,
     "metadata": {},
     "output_type": "execute_result"
    }
   ],
   "source": [
    "df.shape"
   ]
  },
  {
   "cell_type": "code",
   "execution_count": 18,
   "id": "444ee5c1-f4a8-4b4e-8909-1af3189bba3a",
   "metadata": {
    "tags": []
   },
   "outputs": [
    {
     "name": "stdout",
     "output_type": "stream",
     "text": [
      "775 sentences have emojis\n"
     ]
    }
   ],
   "source": [
    "count = 0\n",
    "for i in range(len(df)):\n",
    "    if contains_emoji(df.text.iloc[i]): count+=1\n",
    "\n",
    "print(count, \"sentences have emojis\")"
   ]
  },
  {
   "cell_type": "code",
   "execution_count": 19,
   "id": "19a517b9-0bae-42e5-9b2b-818d1dfa194b",
   "metadata": {},
   "outputs": [
    {
     "data": {
      "text/plain": [
       "((3502, 8),)"
      ]
     },
     "execution_count": 19,
     "metadata": {},
     "output_type": "execute_result"
    }
   ],
   "source": [
    "df.shape,"
   ]
  },
  {
   "cell_type": "code",
   "execution_count": 20,
   "id": "d4f0718a-8735-446f-9fcc-e373b5661dbf",
   "metadata": {
    "tags": []
   },
   "outputs": [],
   "source": [
    "df.to_csv(os.path.join(DATA_PATH,\"cleaned.csv\"), index = False)"
   ]
  },
  {
   "cell_type": "code",
   "execution_count": null,
   "id": "89f807a6-8729-447a-93f9-5dc66da75250",
   "metadata": {},
   "outputs": [],
   "source": []
  }
 ],
 "metadata": {
  "kernelspec": {
   "display_name": "Python 3 (ipykernel)",
   "language": "python",
   "name": "python3"
  },
  "language_info": {
   "codemirror_mode": {
    "name": "ipython",
    "version": 3
   },
   "file_extension": ".py",
   "mimetype": "text/x-python",
   "name": "python",
   "nbconvert_exporter": "python",
   "pygments_lexer": "ipython3",
   "version": "3.11.5"
  }
 },
 "nbformat": 4,
 "nbformat_minor": 5
}
