{
 "cells": [
  {
   "cell_type": "code",
   "execution_count": 1,
   "id": "a6592f80-8871-4469-8410-d19d767cb07f",
   "metadata": {
    "tags": []
   },
   "outputs": [],
   "source": [
    "import pandas as pd\n",
    "from pprint import pprint\n",
    "import os"
   ]
  },
  {
   "cell_type": "code",
   "execution_count": 2,
   "id": "57856c8b-5cb4-4b82-9597-5085b22cf703",
   "metadata": {
    "tags": []
   },
   "outputs": [],
   "source": [
    "DATA_PATH = \"../data/\""
   ]
  },
  {
   "cell_type": "code",
   "execution_count": 3,
   "id": "79dd3963-30c0-443f-991f-62921ec0e147",
   "metadata": {
    "tags": []
   },
   "outputs": [
    {
     "data": {
      "text/plain": [
       "Index(['Unnamed: 0', 'Dataset_Source', 'Emoji_Text', 'E_Sentiment_Scores',\n",
       "       'E_Sentiment_Labels', 'Plain_Text', 'P_Sentiment_Scores',\n",
       "       'P_Sentiment_Labels', 'Emoji_Sentiment_Roles', 'Tokens', 'Words',\n",
       "       'Emoji_Patterns', 'Emoji_Count', 'Emoji_Load', 'Emoji_Sentiment_Scores',\n",
       "       'Emoji_Sentiment_Labels', 'Irony_Labels'],\n",
       "      dtype='object')"
      ]
     },
     "execution_count": 3,
     "metadata": {},
     "output_type": "execute_result"
    }
   ],
   "source": [
    "df = pd.read_csv(os.path.join(DATA_PATH, \"ArSarcasMoji.csv\"))\n",
    "df.columns"
   ]
  },
  {
   "cell_type": "code",
   "execution_count": 4,
   "id": "f96abf6c-4654-4ef4-a178-df60d9a8e51d",
   "metadata": {
    "tags": []
   },
   "outputs": [
    {
     "data": {
      "text/plain": [
       "(24630, 15)"
      ]
     },
     "execution_count": 4,
     "metadata": {},
     "output_type": "execute_result"
    }
   ],
   "source": [
    "df.drop([\"Unnamed: 0\", 'Dataset_Source', ], axis=1, inplace=True)\n",
    "df.shape"
   ]
  },
  {
   "cell_type": "code",
   "execution_count": 6,
   "id": "a495b398-8616-497b-9788-01ef1c09e6ae",
   "metadata": {
    "tags": []
   },
   "outputs": [
    {
     "data": {
      "text/html": [
       "<div>\n",
       "<style scoped>\n",
       "    .dataframe tbody tr th:only-of-type {\n",
       "        vertical-align: middle;\n",
       "    }\n",
       "\n",
       "    .dataframe tbody tr th {\n",
       "        vertical-align: top;\n",
       "    }\n",
       "\n",
       "    .dataframe thead th {\n",
       "        text-align: right;\n",
       "    }\n",
       "</style>\n",
       "<table border=\"1\" class=\"dataframe\">\n",
       "  <thead>\n",
       "    <tr style=\"text-align: right;\">\n",
       "      <th></th>\n",
       "      <th>Emoji_Text</th>\n",
       "      <th>E_Sentiment_Scores</th>\n",
       "      <th>E_Sentiment_Labels</th>\n",
       "      <th>Plain_Text</th>\n",
       "      <th>P_Sentiment_Scores</th>\n",
       "      <th>P_Sentiment_Labels</th>\n",
       "      <th>Emoji_Sentiment_Roles</th>\n",
       "      <th>Tokens</th>\n",
       "      <th>Words</th>\n",
       "      <th>Emoji_Patterns</th>\n",
       "      <th>Emoji_Count</th>\n",
       "      <th>Emoji_Load</th>\n",
       "      <th>Emoji_Sentiment_Scores</th>\n",
       "      <th>Emoji_Sentiment_Labels</th>\n",
       "      <th>Irony_Labels</th>\n",
       "    </tr>\n",
       "  </thead>\n",
       "  <tbody>\n",
       "    <tr>\n",
       "      <th>0</th>\n",
       "      <td>اهل بك 🎈 💕 نورت القروب وزاد نوره وجماله حضورك ...</td>\n",
       "      <td>1.930714</td>\n",
       "      <td>positive</td>\n",
       "      <td>اهل بك نورت القروب وزاد نوره وجماله حضورك المم...</td>\n",
       "      <td>1.635150</td>\n",
       "      <td>positive</td>\n",
       "      <td>Positivity_Emphasizer</td>\n",
       "      <td>['أَهْلِ', 'بَك', '🎈', '💕', 'نَوَّرْتُ', 'القر...</td>\n",
       "      <td>['أَهْلِ', 'بَك', 'نَوَّرْتُ', 'القروب', 'وَزا...</td>\n",
       "      <td>['🎈', '💕']</td>\n",
       "      <td>{'🎈': 1, '💕': 1}</td>\n",
       "      <td>2</td>\n",
       "      <td>1.303344</td>\n",
       "      <td>positive</td>\n",
       "      <td>not_ironic</td>\n",
       "    </tr>\n",
       "    <tr>\n",
       "      <th>1</th>\n",
       "      <td>الله الخيره في اقداركك والر ضا ثم السعاده بك ش...</td>\n",
       "      <td>1.707051</td>\n",
       "      <td>positive</td>\n",
       "      <td>الله الخيره في اقداركك والر ضا ثم السعاده بك ش...</td>\n",
       "      <td>1.311744</td>\n",
       "      <td>positive</td>\n",
       "      <td>Positivity_Emphasizer</td>\n",
       "      <td>['اللّٰه', 'الخَيِّرَة', 'فِي', 'اقداركك', 'وا...</td>\n",
       "      <td>['اللّٰه', 'الخَيِّرَة', 'فِي', 'اقداركك', 'وا...</td>\n",
       "      <td>['❤', '😴']</td>\n",
       "      <td>{'❤': 1, '😴': 1}</td>\n",
       "      <td>2</td>\n",
       "      <td>1.029633</td>\n",
       "      <td>positive</td>\n",
       "      <td>not_ironic</td>\n",
       "    </tr>\n",
       "    <tr>\n",
       "      <th>2</th>\n",
       "      <td>افخم صوره احتفظ بها في جوالي حفظ الله ابو دحام...</td>\n",
       "      <td>1.811027</td>\n",
       "      <td>positive</td>\n",
       "      <td>افخم صوره احتفظ بها في جوالي حفظ الله ابو دحام...</td>\n",
       "      <td>1.548313</td>\n",
       "      <td>positive</td>\n",
       "      <td>Positivity_Emphasizer</td>\n",
       "      <td>['أَفْخُم', 'صُوَرِهِ', 'اِحْتَفَظَ', 'بِها', ...</td>\n",
       "      <td>['أَفْخُم', 'صُوَرِهِ', 'اِحْتَفَظَ', 'بِها', ...</td>\n",
       "      <td>['💚', '💚']</td>\n",
       "      <td>{'💚': 2}</td>\n",
       "      <td>2</td>\n",
       "      <td>1.341924</td>\n",
       "      <td>positive</td>\n",
       "      <td>not_ironic</td>\n",
       "    </tr>\n",
       "    <tr>\n",
       "      <th>3</th>\n",
       "      <td>قرار موفق كل التوفيق لك ونتمني الحالين يتخذون ...</td>\n",
       "      <td>1.475600</td>\n",
       "      <td>positive</td>\n",
       "      <td>قرار موفق كل التوفيق لك ونتمني الحالين يتخذون ...</td>\n",
       "      <td>0.968250</td>\n",
       "      <td>positive</td>\n",
       "      <td>Positivity_Emphasizer</td>\n",
       "      <td>['قَرارِ', 'مُوَفَّق', 'كُلِّ', 'التَوْفِيقَ',...</td>\n",
       "      <td>['قَرارِ', 'مُوَفَّق', 'كُلِّ', 'التَوْفِيقَ',...</td>\n",
       "      <td>['💚', '🌹']</td>\n",
       "      <td>{'💚': 1, '🌹': 1}</td>\n",
       "      <td>2</td>\n",
       "      <td>1.418904</td>\n",
       "      <td>positive</td>\n",
       "      <td>not_ironic</td>\n",
       "    </tr>\n",
       "    <tr>\n",
       "      <th>4</th>\n",
       "      <td>مساء الخير قميعا 😂 😂 😂 😂 😂</td>\n",
       "      <td>1.048895</td>\n",
       "      <td>positive</td>\n",
       "      <td>مساء الخير قميعا</td>\n",
       "      <td>0.962517</td>\n",
       "      <td>positive</td>\n",
       "      <td>Positivity_Emphasizer</td>\n",
       "      <td>['مَساءَ', 'الخَيْرِ', 'قميعا', '😂', '😂', '😂',...</td>\n",
       "      <td>['مَساءَ', 'الخَيْرِ', 'قميعا']</td>\n",
       "      <td>['😂', '😂', '😂', '😂', '😂']</td>\n",
       "      <td>{'😂': 5}</td>\n",
       "      <td>5</td>\n",
       "      <td>0.779820</td>\n",
       "      <td>positive</td>\n",
       "      <td>humourus</td>\n",
       "    </tr>\n",
       "  </tbody>\n",
       "</table>\n",
       "</div>"
      ],
      "text/plain": [
       "                                          Emoji_Text  E_Sentiment_Scores  \\\n",
       "0  اهل بك 🎈 💕 نورت القروب وزاد نوره وجماله حضورك ...            1.930714   \n",
       "1  الله الخيره في اقداركك والر ضا ثم السعاده بك ش...            1.707051   \n",
       "2  افخم صوره احتفظ بها في جوالي حفظ الله ابو دحام...            1.811027   \n",
       "3  قرار موفق كل التوفيق لك ونتمني الحالين يتخذون ...            1.475600   \n",
       "4                         مساء الخير قميعا 😂 😂 😂 😂 😂            1.048895   \n",
       "\n",
       "  E_Sentiment_Labels                                         Plain_Text  \\\n",
       "0           positive  اهل بك نورت القروب وزاد نوره وجماله حضورك المم...   \n",
       "1           positive  الله الخيره في اقداركك والر ضا ثم السعاده بك ش...   \n",
       "2           positive  افخم صوره احتفظ بها في جوالي حفظ الله ابو دحام...   \n",
       "3           positive  قرار موفق كل التوفيق لك ونتمني الحالين يتخذون ...   \n",
       "4           positive                                   مساء الخير قميعا   \n",
       "\n",
       "   P_Sentiment_Scores P_Sentiment_Labels  Emoji_Sentiment_Roles  \\\n",
       "0            1.635150           positive  Positivity_Emphasizer   \n",
       "1            1.311744           positive  Positivity_Emphasizer   \n",
       "2            1.548313           positive  Positivity_Emphasizer   \n",
       "3            0.968250           positive  Positivity_Emphasizer   \n",
       "4            0.962517           positive  Positivity_Emphasizer   \n",
       "\n",
       "                                              Tokens  \\\n",
       "0  ['أَهْلِ', 'بَك', '🎈', '💕', 'نَوَّرْتُ', 'القر...   \n",
       "1  ['اللّٰه', 'الخَيِّرَة', 'فِي', 'اقداركك', 'وا...   \n",
       "2  ['أَفْخُم', 'صُوَرِهِ', 'اِحْتَفَظَ', 'بِها', ...   \n",
       "3  ['قَرارِ', 'مُوَفَّق', 'كُلِّ', 'التَوْفِيقَ',...   \n",
       "4  ['مَساءَ', 'الخَيْرِ', 'قميعا', '😂', '😂', '😂',...   \n",
       "\n",
       "                                               Words  \\\n",
       "0  ['أَهْلِ', 'بَك', 'نَوَّرْتُ', 'القروب', 'وَزا...   \n",
       "1  ['اللّٰه', 'الخَيِّرَة', 'فِي', 'اقداركك', 'وا...   \n",
       "2  ['أَفْخُم', 'صُوَرِهِ', 'اِحْتَفَظَ', 'بِها', ...   \n",
       "3  ['قَرارِ', 'مُوَفَّق', 'كُلِّ', 'التَوْفِيقَ',...   \n",
       "4                    ['مَساءَ', 'الخَيْرِ', 'قميعا']   \n",
       "\n",
       "              Emoji_Patterns       Emoji_Count Emoji_Load  \\\n",
       "0                 ['🎈', '💕']  {'🎈': 1, '💕': 1}          2   \n",
       "1                 ['❤', '😴']  {'❤': 1, '😴': 1}          2   \n",
       "2                 ['💚', '💚']          {'💚': 2}          2   \n",
       "3                 ['💚', '🌹']  {'💚': 1, '🌹': 1}          2   \n",
       "4  ['😂', '😂', '😂', '😂', '😂']          {'😂': 5}          5   \n",
       "\n",
       "   Emoji_Sentiment_Scores Emoji_Sentiment_Labels Irony_Labels  \n",
       "0                1.303344               positive   not_ironic  \n",
       "1                1.029633               positive   not_ironic  \n",
       "2                1.341924               positive   not_ironic  \n",
       "3                1.418904               positive   not_ironic  \n",
       "4                0.779820               positive     humourus  "
      ]
     },
     "execution_count": 6,
     "metadata": {},
     "output_type": "execute_result"
    }
   ],
   "source": [
    "df.head()"
   ]
  },
  {
   "cell_type": "code",
   "execution_count": 7,
   "id": "c24c618a-52c0-462b-a017-0718e45594bd",
   "metadata": {
    "tags": []
   },
   "outputs": [
    {
     "data": {
      "text/html": [
       "<div>\n",
       "<style scoped>\n",
       "    .dataframe tbody tr th:only-of-type {\n",
       "        vertical-align: middle;\n",
       "    }\n",
       "\n",
       "    .dataframe tbody tr th {\n",
       "        vertical-align: top;\n",
       "    }\n",
       "\n",
       "    .dataframe thead th {\n",
       "        text-align: right;\n",
       "    }\n",
       "</style>\n",
       "<table border=\"1\" class=\"dataframe\">\n",
       "  <thead>\n",
       "    <tr style=\"text-align: right;\">\n",
       "      <th></th>\n",
       "      <th>E_Sentiment_Scores</th>\n",
       "      <th>P_Sentiment_Scores</th>\n",
       "      <th>Emoji_Sentiment_Scores</th>\n",
       "    </tr>\n",
       "  </thead>\n",
       "  <tbody>\n",
       "    <tr>\n",
       "      <th>count</th>\n",
       "      <td>24630.000000</td>\n",
       "      <td>24630.000000</td>\n",
       "      <td>24630.000000</td>\n",
       "    </tr>\n",
       "    <tr>\n",
       "      <th>mean</th>\n",
       "      <td>0.307244</td>\n",
       "      <td>0.212416</td>\n",
       "      <td>0.264583</td>\n",
       "    </tr>\n",
       "    <tr>\n",
       "      <th>std</th>\n",
       "      <td>1.503585</td>\n",
       "      <td>1.251643</td>\n",
       "      <td>0.916540</td>\n",
       "    </tr>\n",
       "    <tr>\n",
       "      <th>min</th>\n",
       "      <td>-3.066805</td>\n",
       "      <td>-3.003035</td>\n",
       "      <td>-3.124536</td>\n",
       "    </tr>\n",
       "    <tr>\n",
       "      <th>25%</th>\n",
       "      <td>-1.242473</td>\n",
       "      <td>-0.985335</td>\n",
       "      <td>-0.567320</td>\n",
       "    </tr>\n",
       "    <tr>\n",
       "      <th>50%</th>\n",
       "      <td>1.062443</td>\n",
       "      <td>0.693147</td>\n",
       "      <td>0.468045</td>\n",
       "    </tr>\n",
       "    <tr>\n",
       "      <th>75%</th>\n",
       "      <td>1.644259</td>\n",
       "      <td>1.292049</td>\n",
       "      <td>0.859694</td>\n",
       "    </tr>\n",
       "    <tr>\n",
       "      <th>max</th>\n",
       "      <td>3.643371</td>\n",
       "      <td>3.132356</td>\n",
       "      <td>4.363295</td>\n",
       "    </tr>\n",
       "  </tbody>\n",
       "</table>\n",
       "</div>"
      ],
      "text/plain": [
       "       E_Sentiment_Scores  P_Sentiment_Scores  Emoji_Sentiment_Scores\n",
       "count        24630.000000        24630.000000            24630.000000\n",
       "mean             0.307244            0.212416                0.264583\n",
       "std              1.503585            1.251643                0.916540\n",
       "min             -3.066805           -3.003035               -3.124536\n",
       "25%             -1.242473           -0.985335               -0.567320\n",
       "50%              1.062443            0.693147                0.468045\n",
       "75%              1.644259            1.292049                0.859694\n",
       "max              3.643371            3.132356                4.363295"
      ]
     },
     "execution_count": 7,
     "metadata": {},
     "output_type": "execute_result"
    }
   ],
   "source": [
    "df.describe()"
   ]
  },
  {
   "cell_type": "code",
   "execution_count": 8,
   "id": "d06abc56-7fae-4b71-b9ef-2f1cb739e623",
   "metadata": {
    "tags": []
   },
   "outputs": [
    {
     "data": {
      "text/plain": [
       "array(['Positivity_Emphasizer', 'Negativity_Mitigator',\n",
       "       'Negativity_Emphasizer', 'No_Effect', 'Negativity_Indicator',\n",
       "       'Positivity_Indicator', 'Positivity_Mitigator',\n",
       "       'Positivity_Trigger', 'Positive_Reverser', 'Negativity_Trigger'],\n",
       "      dtype=object)"
      ]
     },
     "execution_count": 8,
     "metadata": {},
     "output_type": "execute_result"
    }
   ],
   "source": [
    "df.Emoji_Sentiment_Roles.unique()"
   ]
  },
  {
   "cell_type": "code",
   "execution_count": 9,
   "id": "c1c2d2cf-deee-42fd-a94d-045b8c7d0ef6",
   "metadata": {
    "tags": []
   },
   "outputs": [
    {
     "data": {
      "text/plain": [
       "array(['not_ironic', 'humourus', 'sarcastic'], dtype=object)"
      ]
     },
     "execution_count": 9,
     "metadata": {},
     "output_type": "execute_result"
    }
   ],
   "source": [
    "df.Irony_Labels.unique()"
   ]
  },
  {
   "cell_type": "code",
   "execution_count": 11,
   "id": "75b67a9d-4423-447b-9095-093125e351c0",
   "metadata": {},
   "outputs": [],
   "source": [
    "s1 = df.Emoji_Text.iloc[0]"
   ]
  },
  {
   "cell_type": "code",
   "execution_count": 12,
   "id": "13e0ff37-cf43-4773-8171-f227e6422538",
   "metadata": {},
   "outputs": [
    {
     "name": "stdout",
     "output_type": "stream",
     "text": [
      "اهل بك balloon two_hearts نورت القروب وزاد نوره وجماله حضورك المميز وننتظر ابداعك فمرحبا بك بين نجومن\n"
     ]
    }
   ],
   "source": [
    "import emoji\n",
    "\n",
    "def demojize_with_emoji_lib(text):\n",
    "    return emoji.demojize(text, delimiters=(\"\", \"\"))\n",
    "\n",
    "\n",
    "demojized_text = demojize_with_emoji_lib(s1)\n",
    "\n",
    "print(demojized_text)"
   ]
  },
  {
   "cell_type": "code",
   "execution_count": null,
   "id": "635834ad-0215-4a1a-a2c0-9c52fa0347ce",
   "metadata": {},
   "outputs": [],
   "source": []
  }
 ],
 "metadata": {
  "kernelspec": {
   "display_name": "Python 3 (ipykernel)",
   "language": "python",
   "name": "python3"
  },
  "language_info": {
   "codemirror_mode": {
    "name": "ipython",
    "version": 3
   },
   "file_extension": ".py",
   "mimetype": "text/x-python",
   "name": "python",
   "nbconvert_exporter": "python",
   "pygments_lexer": "ipython3",
   "version": "3.11.5"
  }
 },
 "nbformat": 4,
 "nbformat_minor": 5
}
