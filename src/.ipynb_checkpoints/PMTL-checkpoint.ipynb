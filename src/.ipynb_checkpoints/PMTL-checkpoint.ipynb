{
 "cells": [
  {
   "cell_type": "code",
   "execution_count": 1,
   "id": "3b46c978-1d90-488c-87a6-4c4aafca3258",
   "metadata": {
    "tags": []
   },
   "outputs": [],
   "source": [
    "import os\n",
    "import pandas as pd\n",
    "import numpy as np\n",
    "import random\n",
    "from tqdm.auto import tqdm\n",
    "import pickle\n",
    "import re\n",
    "import os\n",
    "import sys\n",
    "from dataclasses import dataclass, field\n",
    "from typing import Optional\n",
    "import datasets\n",
    "from datasets import ClassLabel, load_dataset, Dataset, DatasetDict\n",
    "import string\n",
    "from typing import Dict ,List\n",
    "import transformers\n",
    "\n",
    "import torch\n",
    "import torch.nn as nn\n",
    "from torch.optim import SGD\n",
    "from torch.optim.lr_scheduler import _LRScheduler\n",
    "import torch.nn.functional as F\n",
    "from torch_geometric.nn import GCNConv, GATConv\n",
    "from torch_geometric.data import Data\n",
    "from torch.utils.data import DataLoader, TensorDataset\n",
    "from transformers import AdamW\n",
    "from transformers import BertTokenizerFast\n",
    "from transformers import AutoModelForSequenceClassification, Trainer, TrainingArguments\n",
    "from arabert.preprocess import ArabertPreprocessor\n",
    "from transformers import AutoTokenizer, AutoModel\n",
    "from sklearn.metrics import accuracy_score, precision_score, recall_score, f1_score, classification_report, confusion_matrix\n",
    "from sklearn.model_selection import train_test_split\n",
    "\n",
    "import warnings\n",
    "\n",
    "warnings.filterwarnings(\"ignore\")\n",
    "os.environ[\"TOKENIZERS_PARALLELISM\"] = \"false\""
   ]
  },
  {
   "cell_type": "markdown",
   "id": "e8122340-3e18-4027-90c7-dc4e997b1029",
   "metadata": {},
   "source": [
    "<h2 style='color:red'>NOTE: change all occurrences of MPS to CUDA if not training on macOS</h2>"
   ]
  },
  {
   "cell_type": "markdown",
   "id": "a39c6f73-5b10-4f85-8e87-e79746c3ef08",
   "metadata": {},
   "source": [
    "## SETTINGS"
   ]
  },
  {
   "cell_type": "code",
   "execution_count": 2,
   "id": "197434b1-87c5-4482-af6c-78f257b61653",
   "metadata": {
    "tags": []
   },
   "outputs": [],
   "source": [
    "DATA_PATH = \"/Users/gufran/Developer/Projects/AI/MawqifStanceDetection/data\"\n",
    "MODEL_PATH = \"/Users/gufran/Developer/Projects/AI/MawqifStanceDetection/models\""
   ]
  },
  {
   "cell_type": "code",
   "execution_count": 9,
   "id": "534e08fc-6def-4724-ad44-758de0fa25d5",
   "metadata": {
    "tags": []
   },
   "outputs": [],
   "source": [
    "# target = \"all\"\n",
    "target = 'Covid Vaccine'\n",
    "#target = 'Digital Transformation'\n",
    "#target = 'Women empowerment'"
   ]
  },
  {
   "cell_type": "code",
   "execution_count": 4,
   "id": "dedacaef-76a4-498b-b55f-915afa9bef5a",
   "metadata": {
    "tags": []
   },
   "outputs": [
    {
     "name": "stderr",
     "output_type": "stream",
     "text": [
      "Some weights of BertModel were not initialized from the model checkpoint at aubmindlab/bert-base-arabertv02-twitter and are newly initialized: ['bert.pooler.dense.weight', 'bert.pooler.dense.bias']\n",
      "You should probably TRAIN this model on a down-stream task to be able to use it for predictions and inference.\n"
     ]
    }
   ],
   "source": [
    "model_name = \"aubmindlab/bert-base-arabertv02-twitter\"\n",
    "# model_name = \"aubmindlab/bert-base-arabertv02\"\n",
    "# model_name = \"UBC-NLP/MARBERT\"\n",
    "\n",
    "tokenizer = AutoTokenizer.from_pretrained(model_name)\n",
    "bert = AutoModel.from_pretrained(model_name)"
   ]
  },
  {
   "cell_type": "code",
   "execution_count": 5,
   "id": "9340d89f-dfc3-412c-8e66-2106a254e546",
   "metadata": {
    "tags": []
   },
   "outputs": [],
   "source": [
    "batch_size = 16\n",
    "num_epochs = 20\n",
    "learning_rate = 2e-5\n",
    "weight_decay = 1e-5\n",
    "dropout = 0.1\n",
    "device = \"mps\""
   ]
  },
  {
   "cell_type": "code",
   "execution_count": 6,
   "id": "9654aca4-26e6-45a8-bf9b-3649569514b7",
   "metadata": {
    "tags": []
   },
   "outputs": [],
   "source": [
    "seed = 42\n",
    "\n",
    "random.seed(seed)\n",
    "torch.manual_seed(seed)\n",
    "np.random.seed(seed)\n",
    "\n",
    "#FOR MAC --------------------------------------------\n",
    "torch.mps.manual_seed(seed)\n",
    "torch.backends.mps.deterministic=True\n",
    "torch.backends.mps.benchmark = False\n",
    "\n",
    "#FOR WINDOWS AND LINUX -------------------------------\n",
    "# torch.cuda.manual_seed(seed)\n",
    "# torch.cuda.manual_seed_all(seed)\n",
    "# torch.backends.cudnn.deterministic=True #replace mps with cudnn here\n",
    "# torch.backends.cudnn.benchmark = False #replace mps with cudnn here"
   ]
  },
  {
   "cell_type": "markdown",
   "id": "4784b50c-ee68-4d5d-bdec-76979a5b6b43",
   "metadata": {},
   "source": [
    "## DATA LOADING AND PREPROCESSING"
   ]
  },
  {
   "cell_type": "code",
   "execution_count": null,
   "id": "ee9b48ab-6b6a-4452-aba8-d8e7681f157a",
   "metadata": {
    "tags": []
   },
   "outputs": [],
   "source": [
    "df = pd.read_csv(os.path.join(DATA_PATH, \"Mawqif_AllTargets_Train.csv\"))\n",
    "df = df.dropna(subset=[\"stance\"])\n",
    "df = df.sample(frac=1).reset_index(drop=True)\n",
    "df = df[[\"text\", \"sarcasm\", \"sentiment\", \"stance\"]]\n",
    "df.head()"
   ]
  },
  {
   "cell_type": "code",
   "execution_count": null,
   "id": "f1a9a0e9-9122-454a-b4e7-2087af28eca6",
   "metadata": {
    "tags": []
   },
   "outputs": [],
   "source": [
    "mapping_sarcasm = {\"No\": 0, \"Yes\": 1}\n",
    "df['sarcasm'] = df['sarcasm'].map(lambda x: mapping_sarcasm[x])\n",
    "\n",
    "mapping_sentiment = {\"Negative\": 0, \"Neutral\": 1, \"Positive\": 2}\n",
    "df['sentiment'] = df['sentiment'].map(lambda x: mapping_sentiment[x])\n",
    "\n",
    "mapping_stance = {\"Favor\": 1, \"Against\": 0}\n",
    "df['stance'] = df['stance'].map(lambda x: mapping_stance[x])"
   ]
  },
  {
   "cell_type": "code",
   "execution_count": null,
   "id": "829e4180-e0d2-4ea3-a3a6-43a76cb04eab",
   "metadata": {},
   "outputs": [],
   "source": [
    "arabic_punctuations = '''`÷×؛<>()*&^%][ـ،/:\"؟.,'{}~¦+|!”…“–ـ'''\n",
    "english_punctuations = string.punctuation\n",
    "punctuations_list = arabic_punctuations + english_punctuations\n",
    "\n",
    "def remove_hash_URL_MEN(text):\n",
    "    text = re.sub(r'#',' ',text)\n",
    "    text = re.sub(r'_',' ',text)\n",
    "    text = re.sub(r'URL','',text)\n",
    "    text = re.sub(r'MENTION','',text)\n",
    "    return text\n",
    "\n",
    "def normalize_arabic(text):\n",
    "    text = re.sub(\"[إآ]\", \"ا\", text)\n",
    "    text = re.sub(\"گ\", \"ك\", text)\n",
    "    return text\n",
    "\n",
    "def remove_punctuations(text):\n",
    "    translator = str.maketrans('', '', punctuations_list)\n",
    "    return text.translate(translator)\n",
    "\n",
    "def remove_repeating_char(text):\n",
    "    return re.sub(r'(.)\\1+', r'\\1', text)\n",
    "\n",
    "def process_tweet(tweet):     \n",
    "    tweet=remove_hash_URL_MEN(tweet)\n",
    "    tweet = re.sub('@[^\\s]+', ' ', str(tweet))\n",
    "    tweet = re.sub('((www\\.[^\\s]+)|(https?://[^\\s]+))',' ',str(tweet))    \n",
    "    tweet= normalize_arabic(str(tweet))\n",
    "    \n",
    "    return tweet\n",
    "\n",
    "arabert_prep = ArabertPreprocessor(model_name=model_name)\n",
    "df.text = df.text.apply(lambda x: process_tweet(x))\n",
    "df.text = df.text.apply(lambda x: arabert_prep.preprocess(x))"
   ]
  },
  {
   "cell_type": "code",
   "execution_count": null,
   "id": "3ab11eb2-8320-45df-9eb7-7dc30774af85",
   "metadata": {
    "tags": []
   },
   "outputs": [],
   "source": [
    "df.head()"
   ]
  },
  {
   "cell_type": "code",
   "execution_count": null,
   "id": "b0c3be2d-9402-42ca-8df2-1a0d0d8076e4",
   "metadata": {
    "tags": []
   },
   "outputs": [],
   "source": [
    "X = df[[\"text\"]]\n",
    "y = df[[\"sarcasm\", \"sentiment\", \"stance\"]]"
   ]
  },
  {
   "cell_type": "code",
   "execution_count": null,
   "id": "7e8f5e7d-6b5b-42b1-9355-fd465d3f4e84",
   "metadata": {
    "tags": []
   },
   "outputs": [],
   "source": [
    "X_train, X_test, y_train, y_test = train_test_split(X, y, test_size=0.15, random_state=42)\n",
    "print(\"X_train shape:\", X_train.shape, \"y_train shape:\", y_train.shape, \"X_test shape:\", X_test.shape, \"y_test shape:\", y_test.shape)"
   ]
  },
  {
   "cell_type": "code",
   "execution_count": null,
   "id": "e1c209bc-c448-4e01-8e90-6797a90e4fa7",
   "metadata": {
    "tags": []
   },
   "outputs": [],
   "source": [
    "def encode_text(text):\n",
    "    return tokenizer(text, padding=\"max_length\", truncation=True, max_length=128, return_tensors=\"pt\")\n",
    "\n",
    "encoded_tweets_train = [encode_text(text) for text in X_train[\"text\"]]\n",
    "encoded_tweets_test = [encode_text(text) for text in X_test[\"text\"]]"
   ]
  },
  {
   "cell_type": "code",
   "execution_count": null,
   "id": "9907e689-c3fd-4ab7-a94a-4a12901fb062",
   "metadata": {},
   "outputs": [],
   "source": [
    "def data_generator(encoded_tweets, labels):    \n",
    "    main_tweets, sentiments, sarcasms, stances = [], [], [], []\n",
    "    len_encoded_tweets = len(encoded_tweets)\n",
    "    \n",
    "    for i in range(len_encoded_tweets):\n",
    "        main_tweets.append(encoded_tweets[i])\n",
    "        sentiments.append(labels.sentiment.iloc[i])\n",
    "        sarcasms.append(labels.sarcasm.iloc[i])\n",
    "        stances.append(labels.stance.iloc[i])\n",
    "            \n",
    "    return main_tweets, sentiments, sarcasms, stances"
   ]
  },
  {
   "cell_type": "code",
   "execution_count": null,
   "id": "4a1409f3-1c40-46ec-af6e-f77898147f04",
   "metadata": {
    "tags": []
   },
   "outputs": [],
   "source": [
    "main_tweets, sentiments, sarcasms, stances = data_generator(encoded_tweets_train, y_train)\n",
    "train_dataset = TensorDataset(\n",
    "    torch.cat([item[\"input_ids\"] for item in main_tweets]),\n",
    "    torch.cat([item[\"attention_mask\"] for item in main_tweets]),\n",
    "    torch.tensor(sarcasms),\n",
    "    torch.tensor(sentiments),\n",
    "    torch.tensor(stances),\n",
    ")\n",
    "train_loader = DataLoader(train_dataset, batch_size=batch_size, shuffle=True)\n",
    "\n",
    "main_tweets, sentiments, sarcasms, stances = data_generator(encoded_tweets_test, y_test)\n",
    "val_dataset = TensorDataset(\n",
    "    torch.cat([item[\"input_ids\"] for item in main_tweets]),\n",
    "    torch.cat([item[\"attention_mask\"] for item in main_tweets]),\n",
    "    torch.tensor(sarcasms),\n",
    "    torch.tensor(sentiments),\n",
    "    torch.tensor(stances),\n",
    ")\n",
    "val_loader = DataLoader(val_dataset, batch_size=batch_size, shuffle=True)"
   ]
  },
  {
   "cell_type": "code",
   "execution_count": null,
   "id": "61f5bcbf-eb8b-4d64-8431-8b7faff417db",
   "metadata": {
    "tags": []
   },
   "outputs": [],
   "source": [
    "num_sarcasm_labels = len(df.sarcasm.unique())\n",
    "num_sentiment_labels = len(df.sentiment.unique())\n",
    "num_stance_labels = len(df.stance.unique())\n",
    "\n",
    "num_sarcasm_labels, num_sentiment_labels, num_stance_labels"
   ]
  },
  {
   "cell_type": "markdown",
   "id": "b987a76c-5bc9-4967-ad1e-4525d02515ea",
   "metadata": {},
   "source": [
    "---"
   ]
  },
  {
   "cell_type": "markdown",
   "id": "f8436701-67d5-40f9-bf93-ebc3290befc0",
   "metadata": {
    "tags": []
   },
   "source": [
    "## MODEL ARCHITECTURE"
   ]
  },
  {
   "cell_type": "code",
   "execution_count": null,
   "id": "2fb3f629-18d4-4bbb-b6d4-adb7fbdcd1bc",
   "metadata": {
    "tags": []
   },
   "outputs": [],
   "source": [
    "class TaskHead(nn.Module):\n",
    "    def __init__(self, num_labels, hidden_size):\n",
    "        super(TaskHead, self).__init__()\n",
    "        \n",
    "        self.num_labels = num_labels\n",
    "        self.classifier = nn.Linear(hidden_size, num_labels)\n",
    "        \n",
    "    def forward(self, inputs):\n",
    "        logits = F.dropout(inputs, p=dropout, training=self.training)\n",
    "        logits = self.classifier(logits)\n",
    "        \n",
    "        return logits\n",
    "    \n",
    "    def _init_weights(self):\n",
    "        self.classifier.weight.data.normal_(mean=0.0, std=0.02)\n",
    "        if self.classifier.bias is not None:\n",
    "            self.classifier.bias.data.zero_()"
   ]
  },
  {
   "cell_type": "code",
   "execution_count": null,
   "id": "5c772d61-1c37-47ff-812f-2272fefe2be7",
   "metadata": {
    "scrolled": true,
    "tags": []
   },
   "outputs": [],
   "source": [
    "class MultiTaskModel(nn.Module):\n",
    "    def __init__(self, bert, sentiment_head, sarcasm_head, stance_head, subtask_hidden_layer_size):\n",
    "        super(MultiTaskModel, self).__init__()\n",
    "\n",
    "        self.bert = bert\n",
    "        self.hidden_layer = nn.Linear(bert.config.hidden_size, subtask_hidden_layer_size)\n",
    "        self.dropout = nn.Dropout(dropout)\n",
    "        \n",
    "        self.sentiment_head = sentiment_head\n",
    "        self.sarcasm_head = sarcasm_head\n",
    "        self.stance_head = stance_head\n",
    "        \n",
    "    def forward(self, mt_input_ids, mt_attention_mask):\n",
    "        mt_outputs = self.bert(input_ids=mt_input_ids, attention_mask=mt_attention_mask)\n",
    "        mt_last_hidden_state = mt_outputs.last_hidden_state[:, 0, :]\n",
    "        \n",
    "        hidden_output = self.dropout(F.relu(self.hidden_layer(mt_last_hidden_state)))\n",
    "        sarcasm_logits = self.sarcasm_head(hidden_output)\n",
    "        sentiment_logits = self.sentiment_head(hidden_output)\n",
    "        stance_logits = self.stance_head(hidden_output)\n",
    "        \n",
    "        return sarcasm_logits, sentiment_logits, stance_logits"
   ]
  },
  {
   "cell_type": "markdown",
   "id": "576e077a-c20c-40b1-b374-a71249e27cf6",
   "metadata": {},
   "source": [
    "## TRAINING & VALIDATION"
   ]
  },
  {
   "cell_type": "code",
   "execution_count": null,
   "id": "4524f0a2-78dd-4f07-9fc7-db364afa7003",
   "metadata": {
    "tags": []
   },
   "outputs": [],
   "source": [
    "class LinearDecayLR(_LRScheduler):\n",
    "    def __init__(self, optimizer, n_epoch, start_decay, last_epoch=-1):\n",
    "        self.start_decay=start_decay\n",
    "        self.n_epoch=n_epoch\n",
    "        super(LinearDecayLR, self).__init__(optimizer, last_epoch)\n",
    "\n",
    "    def get_lr(self):\n",
    "        last_epoch = self.last_epoch\n",
    "        n_epoch=self.n_epoch\n",
    "        b_lr=self.base_lrs[0]\n",
    "        start_decay=self.start_decay\n",
    "        if last_epoch>start_decay:\n",
    "            lr=b_lr-b_lr/(n_epoch-start_decay)*(last_epoch-start_decay)\n",
    "        else:\n",
    "            lr=b_lr\n",
    "        return [lr]"
   ]
  },
  {
   "cell_type": "code",
   "execution_count": null,
   "id": "183394a0-43d4-40f0-b3e4-cfdfc13a130d",
   "metadata": {},
   "outputs": [],
   "source": [
    "hidden_layer_size = 256\n",
    "model = MultiTaskModel(\n",
    "    bert.to(device),\n",
    "    TaskHead(num_sentiment_labels, hidden_layer_size),\n",
    "    TaskHead(num_sarcasm_labels, hidden_layer_size),\n",
    "    TaskHead(num_stance_labels, hidden_layer_size),\n",
    "    hidden_layer_size,\n",
    ").to(device)\n",
    "\n",
    "optimizer = AdamW(model.parameters(), lr=learning_rate, weight_decay=weight_decay)\n",
    "ce_loss = nn.CrossEntropyLoss()\n",
    "mse_loss = nn.MSELoss()\n",
    "\n",
    "lr_scheduler=LinearDecayLR(optimizer, num_epochs, int(num_epochs*0.75))\n",
    "\n",
    "for epoch in range(num_epochs):\n",
    "    print(f\"Epoch {epoch+1} || Learning Rate: {lr_scheduler.get_lr()}\")\n",
    "    \n",
    "    # TRAINING -------------------------------------------------------------------------------\n",
    "    model.train()\n",
    "    train_loader_gen = data_generator(encoded_tweets_train, y_train)\n",
    "    valid_loader_gen = data_generator(encoded_tweets_test, y_test)\n",
    "    \n",
    "    epoch_sarcasm_loss, epoch_sentiment_loss, epoch_stance_loss = 0.0, 0.0, 0.0    \n",
    "    correct_sarcasm, correct_sentiment, correct_stance, total_samples = 0,0,0,0\n",
    "\n",
    "    for batch in tqdm(train_loader, desc=\"Training\"):\n",
    "        mt_input_ids, mt_attention_mask, sarc_y, sent_y, stance_y = batch\n",
    "        mt_input_ids = mt_input_ids.to(device)\n",
    "        mt_attention_mask = mt_attention_mask.to(device)\n",
    "        sarc_y = sarc_y.to(device)\n",
    "        sent_y = sent_y.to(device)\n",
    "        stance_y = stance_y.to(device)\n",
    "\n",
    "        optimizer.zero_grad()\n",
    "        sarcasm_logits, sentiment_logits, stance_logits = model(mt_input_ids, mt_attention_mask)\n",
    "\n",
    "        sarcasm_loss = ce_loss(sarcasm_logits, sarc_y)\n",
    "        sentiment_loss = ce_loss(sentiment_logits, sent_y)\n",
    "        stance_loss = ce_loss(stance_logits, stance_y)\n",
    "\n",
    "        total_loss = sarcasm_loss + sentiment_loss + stance_loss\n",
    "        total_loss.backward()\n",
    "        optimizer.step()\n",
    "\n",
    "        correct_sarcasm += (sarcasm_logits.argmax(dim=1) == sarc_y).sum().item()\n",
    "        correct_sentiment += (sentiment_logits.argmax(dim=1) == sent_y).sum().item()\n",
    "        correct_stance += (stance_logits.argmax(dim=1) == stance_y).sum().item()\n",
    "        total_samples += mt_input_ids.size(0)\n",
    "\n",
    "        epoch_sarcasm_loss += sarcasm_loss.item()\n",
    "        epoch_sentiment_loss += sentiment_loss.item()\n",
    "        epoch_stance_loss += stance_loss.item()\n",
    "           \n",
    "    avg_sarcasm_loss = epoch_sarcasm_loss / total_samples\n",
    "    avg_sentiment_loss = epoch_sentiment_loss / total_samples\n",
    "    avg_stance_loss = epoch_stance_loss / total_samples\n",
    "\n",
    "    sarcasm_acc = correct_sarcasm / total_samples\n",
    "    sentiment_acc = correct_sentiment / total_samples\n",
    "    stance_acc = correct_stance / total_samples\n",
    "\n",
    "    print(f\"Sarcasm -> Loss: {avg_sarcasm_loss:.4f}, Acc: {sarcasm_acc:.4f}\")\n",
    "    print(f\"Sentiment -> Loss: {avg_sentiment_loss:.4f}, Acc: {sentiment_acc:.4f}\")\n",
    "    print(f\"Stance -> Loss: {avg_stance_loss:.4f}, Acc: {stance_acc:.4f}\")\n",
    "    \n",
    "    \n",
    "    # VALIDATION -------------------------------------------------------------------------------\n",
    "    model.eval()\n",
    "    valid_sarcasm_loss, valid_sentiment_loss, valid_stance_loss = 0.0, 0.0, 0.0\n",
    "    valid_correct_sarcasm, valid_correct_sentiment, valid_correct_stance, valid_total_samples = 0,0,0,0\n",
    "    \n",
    "    with torch.no_grad():\n",
    "        for batch in tqdm(val_loader, desc=\"Validation\"):\n",
    "            mt_input_ids, mt_attention_mask, sarc_y, sent_y, stance_y = batch\n",
    "            mt_input_ids = mt_input_ids.to(device)\n",
    "            mt_attention_mask = mt_attention_mask.to(device)\n",
    "            sarc_y = sarc_y.to(device)\n",
    "            sent_y = sent_y.to(device)\n",
    "            stance_y = stance_y.to(device)\n",
    "\n",
    "            sarcasm_logits, sentiment_logits, stance_logits = model(mt_input_ids, mt_attention_mask)\n",
    "\n",
    "            sarcasm_loss = ce_loss(sarcasm_logits, sarc_y)\n",
    "            sentiment_loss = ce_loss(sentiment_logits, sent_y)\n",
    "            stance_loss = ce_loss(stance_logits, stance_y)\n",
    "\n",
    "            valid_sarcasm_loss += sarcasm_loss.item()\n",
    "            valid_sentiment_loss += sentiment_loss.item()\n",
    "            valid_stance_loss += stance_loss.item()\n",
    "\n",
    "            valid_correct_sarcasm += (sarcasm_logits.argmax(dim=1) == sarc_y).sum().item()\n",
    "            valid_correct_sentiment += (sentiment_logits.argmax(dim=1) == sent_y).sum().item()\n",
    "            valid_correct_stance += (stance_logits.argmax(dim=1) == stance_y).sum().item()\n",
    "            valid_total_samples += mt_input_ids.size(0)\n",
    "    \n",
    "    avg_valid_sarcasm_loss = valid_sarcasm_loss / valid_total_samples\n",
    "    avg_valid_sentiment_loss = valid_sentiment_loss / valid_total_samples\n",
    "    avg_valid_stance_loss = valid_stance_loss / valid_total_samples\n",
    "    \n",
    "    valid_sarcasm_acc = valid_correct_sarcasm / valid_total_samples\n",
    "    valid_sentiment_acc = valid_correct_sentiment / valid_total_samples\n",
    "    valid_stance_acc = valid_correct_stance / valid_total_samples\n",
    "\n",
    "    print(f\"Sarcasm -> Loss: {avg_valid_sarcasm_loss:.4f}, Acc: {valid_sarcasm_acc:.4f}\")\n",
    "    print(f\"Sentiment -> Loss: {avg_valid_sentiment_loss:.4f}, Acc: {valid_sentiment_acc:.4f}\")\n",
    "    print(f\"Stance -> Loss: {avg_valid_stance_loss:.4f}, Acc: {valid_stance_acc:.4f}\\n\\n\")\n",
    "    \n",
    "    lr_scheduler.step()"
   ]
  },
  {
   "cell_type": "markdown",
   "id": "5fc100b7-9cb5-47de-a4d1-0b08cc0d40f7",
   "metadata": {},
   "source": [
    "## TESTING"
   ]
  },
  {
   "cell_type": "code",
   "execution_count": null,
   "id": "7772dc45-336c-461e-89ba-32eb1d978ea2",
   "metadata": {},
   "outputs": [],
   "source": []
  }
 ],
 "metadata": {
  "kernelspec": {
   "display_name": "Python 3 (ipykernel)",
   "language": "python",
   "name": "python3"
  },
  "language_info": {
   "codemirror_mode": {
    "name": "ipython",
    "version": 3
   },
   "file_extension": ".py",
   "mimetype": "text/x-python",
   "name": "python",
   "nbconvert_exporter": "python",
   "pygments_lexer": "ipython3",
   "version": "3.11.5"
  }
 },
 "nbformat": 4,
 "nbformat_minor": 5
}
